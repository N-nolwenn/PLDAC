{
 "cells": [
  {
   "cell_type": "code",
   "execution_count": 17,
   "id": "7de7f383",
   "metadata": {},
   "outputs": [],
   "source": [
    "from pymongo  import MongoClient\n",
    "import pandas as pd\n",
    "import numpy as np\n",
    "from nltk.stem import SnowballStemmer\n",
    "from nltk.tokenize import word_tokenize\n",
    "from sklearn import decomposition, naive_bayes, preprocessing, model_selection, metrics\n",
    "from sklearn.pipeline import Pipeline\n",
    "from sklearn.feature_extraction.text import CountVectorizer, TfidfVectorizer\n",
    "from sklearn import model_selection\n",
    "#! pip install scikit-surprise\n",
    "from surprise import NormalPredictor, BaselineOnly, SVD\n",
    "from surprise import Dataset\n",
    "from surprise import Reader\n",
    "from surprise.model_selection import cross_validate"
   ]
  },
  {
   "cell_type": "markdown",
   "id": "bd34814b",
   "metadata": {},
   "source": [
    "# Chargement des données AVIS"
   ]
  },
  {
   "cell_type": "code",
   "execution_count": 18,
   "id": "397272d6",
   "metadata": {},
   "outputs": [],
   "source": [
    "client = MongoClient(host=\"localhost\", port=27017)\n",
    "db = client[\"PLDAC_01\"] \n",
    "collection = db[\"avis\"]"
   ]
  },
  {
   "cell_type": "code",
   "execution_count": 19,
   "id": "a4ea1183",
   "metadata": {},
   "outputs": [
    {
     "data": {
      "text/html": [
       "<div>\n",
       "<style scoped>\n",
       "    .dataframe tbody tr th:only-of-type {\n",
       "        vertical-align: middle;\n",
       "    }\n",
       "\n",
       "    .dataframe tbody tr th {\n",
       "        vertical-align: top;\n",
       "    }\n",
       "\n",
       "    .dataframe thead th {\n",
       "        text-align: right;\n",
       "    }\n",
       "</style>\n",
       "<table border=\"1\" class=\"dataframe\">\n",
       "  <thead>\n",
       "    <tr style=\"text-align: right;\">\n",
       "      <th></th>\n",
       "      <th>author</th>\n",
       "      <th>title</th>\n",
       "      <th>note</th>\n",
       "      <th>date_published</th>\n",
       "    </tr>\n",
       "  </thead>\n",
       "  <tbody>\n",
       "    <tr>\n",
       "      <th>0</th>\n",
       "      <td>Monsieur Guillaume</td>\n",
       "      <td>Mariposas</td>\n",
       "      <td>8.0</td>\n",
       "      <td>2021-01-27 11:06:44</td>\n",
       "    </tr>\n",
       "    <tr>\n",
       "      <th>1</th>\n",
       "      <td>morlockbob</td>\n",
       "      <td>Mariposas</td>\n",
       "      <td>7.0</td>\n",
       "      <td>2020-10-18 10:04:21</td>\n",
       "    </tr>\n",
       "    <tr>\n",
       "      <th>2</th>\n",
       "      <td>SwatSh</td>\n",
       "      <td>Mariposas</td>\n",
       "      <td>7.0</td>\n",
       "      <td>2021-02-01 08:35:08</td>\n",
       "    </tr>\n",
       "    <tr>\n",
       "      <th>3</th>\n",
       "      <td>Timi JeuxATheme</td>\n",
       "      <td>Mariposas</td>\n",
       "      <td>8.0</td>\n",
       "      <td>2020-11-19 17:04:57</td>\n",
       "    </tr>\n",
       "    <tr>\n",
       "      <th>4</th>\n",
       "      <td>prunelles</td>\n",
       "      <td>Mariposas</td>\n",
       "      <td>9.0</td>\n",
       "      <td>2021-05-24 12:43:18</td>\n",
       "    </tr>\n",
       "  </tbody>\n",
       "</table>\n",
       "</div>"
      ],
      "text/plain": [
       "               author      title  note       date_published\n",
       "0  Monsieur Guillaume  Mariposas   8.0  2021-01-27 11:06:44\n",
       "1          morlockbob  Mariposas   7.0  2020-10-18 10:04:21\n",
       "2              SwatSh  Mariposas   7.0  2021-02-01 08:35:08\n",
       "3     Timi JeuxATheme  Mariposas   8.0  2020-11-19 17:04:57\n",
       "4           prunelles  Mariposas   9.0  2021-05-24 12:43:18"
      ]
     },
     "execution_count": 19,
     "metadata": {},
     "output_type": "execute_result"
    }
   ],
   "source": [
    "df_avis = pd.DataFrame(list(collection.find())).loc[:,[\"author\",\"title\",\"note\",\"date_published\"]]\n",
    "df_avis.head(5)"
   ]
  },
  {
   "cell_type": "code",
   "execution_count": 20,
   "id": "aae35456",
   "metadata": {},
   "outputs": [
    {
     "name": "stdout",
     "output_type": "stream",
     "text": [
      "Il y a 13623 utilisateurs et 10709 jeux dans la base.\n",
      "Taile de la base:\n",
      "   246524\n"
     ]
    }
   ],
   "source": [
    "num_utilisateurs  = df_avis[\"author\"].nunique()\n",
    "num_jeux  = df_avis[\"title\"].nunique()\n",
    "\n",
    "print(f\"Il y a {num_users} utilisateurs et {num_jeux} jeux dans la base.\")\n",
    "print(\"Taile de la base:\\n  \",len(df_avis))"
   ]
  },
  {
   "attachments": {},
   "cell_type": "markdown",
   "id": "e00b4555",
   "metadata": {},
   "source": [
    "## Stastistique sur les utilisateurs ayant noté plusieurs fois un jeu."
   ]
  },
  {
   "cell_type": "code",
   "execution_count": 21,
   "id": "1aeed329",
   "metadata": {},
   "outputs": [
    {
     "data": {
      "text/plain": [
       "author            title                                note  date_published     \n",
       "#yuyu#            Bubblee Pop                          8.5   2019-01-19 23:11:33    2\n",
       "                  KARMAKA                              8.8   2018-02-25 09:01:19    2\n",
       "$hadow            Le Dilemme du Roi                    9.0   2021-01-03 21:14:16    5\n",
       "$lebat@$          Deluxe Camping                       10.0  2007-11-06 12:28:47    1\n",
       "&lo               Sporz Original Outbreak              10.0  2011-01-18 12:28:59    1\n",
       "*FitzChevalerie*  7 Wonders - Extension \"Cities\"       8.0   2012-11-20 13:36:22    1\n",
       "                  7 Wonders - Extension \"Wonder Pack\"  7.4   2013-10-14 20:35:59    1\n",
       "                  A Few Acres of Snow                  10.0  2012-05-23 12:29:05    1\n",
       "                  Archipelago                          10.0  2012-10-16 13:36:22    1\n",
       "                  Archipelago : Solo Expansion         10.0  2012-12-06 18:14:14    1\n",
       "dtype: int64"
      ]
     },
     "execution_count": 21,
     "metadata": {},
     "output_type": "execute_result"
    }
   ],
   "source": [
    "df_avis_unique = df_avis.groupby(['author','title']).value_counts()\n",
    "df_avis_unique.head(10)"
   ]
  },
  {
   "attachments": {},
   "cell_type": "markdown",
   "id": "171fbbc7",
   "metadata": {},
   "source": [
    "Nous observons que se sont juste des diplications d'une même ligne."
   ]
  },
  {
   "attachments": {},
   "cell_type": "markdown",
   "id": "c0e0de25",
   "metadata": {},
   "source": [
    "## Suppression des duplications"
   ]
  },
  {
   "cell_type": "code",
   "execution_count": 22,
   "id": "ed1a6978",
   "metadata": {},
   "outputs": [
    {
     "data": {
      "text/html": [
       "<div>\n",
       "<style scoped>\n",
       "    .dataframe tbody tr th:only-of-type {\n",
       "        vertical-align: middle;\n",
       "    }\n",
       "\n",
       "    .dataframe tbody tr th {\n",
       "        vertical-align: top;\n",
       "    }\n",
       "\n",
       "    .dataframe thead th {\n",
       "        text-align: right;\n",
       "    }\n",
       "</style>\n",
       "<table border=\"1\" class=\"dataframe\">\n",
       "  <thead>\n",
       "    <tr style=\"text-align: right;\">\n",
       "      <th></th>\n",
       "      <th>author</th>\n",
       "      <th>title</th>\n",
       "      <th>note</th>\n",
       "      <th>date_published</th>\n",
       "    </tr>\n",
       "  </thead>\n",
       "  <tbody>\n",
       "    <tr>\n",
       "      <th>0</th>\n",
       "      <td>Monsieur Guillaume</td>\n",
       "      <td>Mariposas</td>\n",
       "      <td>8.0</td>\n",
       "      <td>2021-01-27 11:06:44</td>\n",
       "    </tr>\n",
       "    <tr>\n",
       "      <th>1</th>\n",
       "      <td>morlockbob</td>\n",
       "      <td>Mariposas</td>\n",
       "      <td>7.0</td>\n",
       "      <td>2020-10-18 10:04:21</td>\n",
       "    </tr>\n",
       "    <tr>\n",
       "      <th>2</th>\n",
       "      <td>SwatSh</td>\n",
       "      <td>Mariposas</td>\n",
       "      <td>7.0</td>\n",
       "      <td>2021-02-01 08:35:08</td>\n",
       "    </tr>\n",
       "    <tr>\n",
       "      <th>3</th>\n",
       "      <td>Timi JeuxATheme</td>\n",
       "      <td>Mariposas</td>\n",
       "      <td>8.0</td>\n",
       "      <td>2020-11-19 17:04:57</td>\n",
       "    </tr>\n",
       "    <tr>\n",
       "      <th>4</th>\n",
       "      <td>prunelles</td>\n",
       "      <td>Mariposas</td>\n",
       "      <td>9.0</td>\n",
       "      <td>2021-05-24 12:43:18</td>\n",
       "    </tr>\n",
       "  </tbody>\n",
       "</table>\n",
       "</div>"
      ],
      "text/plain": [
       "               author      title  note       date_published\n",
       "0  Monsieur Guillaume  Mariposas   8.0  2021-01-27 11:06:44\n",
       "1          morlockbob  Mariposas   7.0  2020-10-18 10:04:21\n",
       "2              SwatSh  Mariposas   7.0  2021-02-01 08:35:08\n",
       "3     Timi JeuxATheme  Mariposas   8.0  2020-11-19 17:04:57\n",
       "4           prunelles  Mariposas   9.0  2021-05-24 12:43:18"
      ]
     },
     "execution_count": 22,
     "metadata": {},
     "output_type": "execute_result"
    }
   ],
   "source": [
    "df_avis = df_avis.drop_duplicates(subset=['author','title','note','date_published'])\n",
    "df_avis.head()"
   ]
  },
  {
   "cell_type": "code",
   "execution_count": 23,
   "id": "4cfb2950",
   "metadata": {},
   "outputs": [
    {
     "name": "stdout",
     "output_type": "stream",
     "text": [
      "Il y a 13623 utilisateurs et 10709 jeux dans la base après suppression des duplications.\n",
      "Nombre de lignes restantes dans la base:\n",
      "   176182\n"
     ]
    }
   ],
   "source": [
    "df_avis = df_avis[['author','title','note']]\n",
    "num_utilisateurs  = df_avis[\"author\"].nunique()\n",
    "num_jeux  = df_avis[\"title\"].nunique()\n",
    "\n",
    "print(f\"Il y a {num_utilisateurs} utilisateurs et {num_jeux} jeux dans la base après suppression des duplications.\")\n",
    "print(\"Nombre de lignes restantes dans la base:\\n  \",len(df_avis))"
   ]
  },
  {
   "attachments": {},
   "cell_type": "markdown",
   "id": "0854bc58",
   "metadata": {},
   "source": [
    "### 1. Statistique sur le nombre d'utilisateurs en fonction du nombre minimum de notes."
   ]
  },
  {
   "cell_type": "code",
   "execution_count": 28,
   "id": "3231987c",
   "metadata": {},
   "outputs": [
    {
     "name": "stdout",
     "output_type": "stream",
     "text": [
      "Nombre minimums de notes requis:\n",
      "   [0, 5, 10, 20, 30, 50, 100, 200, 300]\n",
      "Liste du nombre d'authors restants:\n",
      "   [13623, 4701, 2849, 1631, 1176, 734, 359, 128, 61]\n",
      "Liste du nombre de jeux restants:\n",
      "   [10709, 10473, 10284, 9985, 9810, 9502, 8884, 7841, 6941]\n",
      "Taille de la base resultante:\n",
      "   [176182, 161268, 149070, 132486, 121520, 104609, 78628, 46249, 29916]\n"
     ]
    }
   ],
   "source": [
    "import seaborn as sns\n",
    "import matplotlib.pyplot as plt\n",
    "\n",
    "l_min = [0,5,10,20,30,50,100,200,300]\n",
    "n_authors = []\n",
    "n_titles = []\n",
    "tailles_df = []\n",
    "\n",
    "authors_counts = df_avis['author'].value_counts()\n",
    "for min_note in l_min:\n",
    "  authors = authors_counts[authors_counts >= min_note].index.to_list()\n",
    "  n_authors.append(np.unique(authors).shape[0])\n",
    "  \n",
    "  df_avis_k = df_avis[df_avis['author'].isin(authors)]\n",
    "  n_titles.append(df_avis_k[\"title\"].nunique())\n",
    "  tailles_df.append(len(df_avis_k))\n",
    "\n",
    "print(\"Nombre minimums de notes requis:\\n  \",l_min)\n",
    "print(\"Liste du nombre d'authors restants:\\n  \",n_authors)\n",
    "print(\"Liste du nombre de jeux restants:\\n  \",n_titles)\n",
    "print(\"Taille de la base resultante:\\n  \",tailles_df)"
   ]
  },
  {
   "cell_type": "code",
   "execution_count": 29,
   "id": "871c73ce",
   "metadata": {},
   "outputs": [
    {
     "data": {
      "image/png": "[encoded data removed]",
      "text/plain": [
       "<Figure size 432x288 with 1 Axes>"
      ]
     },
     "metadata": {},
     "output_type": "display_data"
    }
   ],
   "source": [
    "sns.set_style(\"darkgrid\")\n",
    "sns.lineplot(x=l_min,y=n_authors)\n",
    "plt.title(\"Nombre d'utilisateurs restants dans la base en fonction du nombre mini de notes\")\n",
    "plt.show()"
   ]
  },
  {
   "cell_type": "code",
   "execution_count": 30,
   "id": "36688469",
   "metadata": {},
   "outputs": [
    {
     "data": {
      "image/png": "[encoded data removed]",
      "text/plain": [
       "<Figure size 432x288 with 1 Axes>"
      ]
     },
     "metadata": {},
     "output_type": "display_data"
    }
   ],
   "source": [
    "sns.set_style(\"darkgrid\")\n",
    "sns.lineplot(x=l_min,y=n_titles)\n",
    "plt.title(\"Nombre d'utilisateurs restants dans la base en fonction du nombre mini de notes\")\n",
    "plt.show()"
   ]
  },
  {
   "cell_type": "code",
   "execution_count": 31,
   "id": "fd040aff",
   "metadata": {},
   "outputs": [
    {
     "data": {
      "image/png": "[encoded data removed]",
      "text/plain": [
       "<Figure size 432x288 with 1 Axes>"
      ]
     },
     "metadata": {},
     "output_type": "display_data"
    }
   ],
   "source": [
    "sns.set_style(\"darkgrid\")\n",
    "sns.lineplot(x=l_min,y=tailles_df)\n",
    "plt.title(\"Taille du df restants dans la base en fonction du nombre mini de notes\")\n",
    "plt.show()"
   ]
  },
  {
   "attachments": {},
   "cell_type": "markdown",
   "id": "0b5fe422",
   "metadata": {},
   "source": [
    "Nous avons decidé de prendre les trois cas suivants au vus des statisques après suppression de certains cas d'utilisateurs: \n",
    "- les utilisateurs ayant noté au moins 10 jeux\n",
    "- les utilisateurs ayant noté au moins 100 jeux\n",
    "- les utilisateurs ayant noté au moins 200 jeux\n",
    "- les utilisateurs ayant noté au moins 300 jeux"
   ]
  },
  {
   "attachments": {},
   "cell_type": "markdown",
   "id": "edb5e888",
   "metadata": {},
   "source": [
    "## Déduction des quatres bases sur les quelles nous allons travailer et faire des comparaisons.\n",
    "\n",
    "- df_avis_10 contient les données avec des utilisateurs ayant noté au moins 10 jeux\n",
    "- df_avis_100 contient les données avec des utilisateurs ayant noté au moins 100 jeux\n",
    "- df_avis_200 contient les données avec des utilisateurs ayant noté au moins 200 jeux\n",
    "- df_avis_300 contient les données avec des utilisateurs ayant noté au moins 300 jeux"
   ]
  },
  {
   "cell_type": "code",
   "execution_count": 133,
   "id": "56024485",
   "metadata": {},
   "outputs": [
    {
     "name": "stdout",
     "output_type": "stream",
     "text": [
      "Taille de la base avant suppression:\n",
      "      --> 176182\n",
      "Taille de la base après suppression des utilisateurs ayant noté moins de peu de jeux:\n",
      "  10  --> 149070\n",
      "  100 --> 78628\n",
      "  200 --> 46249\n",
      "  300 --> 29916\n"
     ]
    }
   ],
   "source": [
    "print(f\"Taille de la base avant suppression:\\n      --> {len(df_avis)}\")\n",
    "\n",
    "authors = df_avis['author'].value_counts()\n",
    "authors_10  = authors[authors >= 10 ].index.to_list()\n",
    "authors_100 = authors[authors >= 100].index.to_list()\n",
    "authors_200 = authors[authors >= 200].index.to_list()\n",
    "authors_300 = authors[authors >= 300].index.to_list()\n",
    "\n",
    "df_avis_10  = df_avis[df_avis['author'].isin(authors_10)]\n",
    "df_avis_100 = df_avis[df_avis['author'].isin(authors_100)]\n",
    "df_avis_200 = df_avis[df_avis['author'].isin(authors_200)]\n",
    "df_avis_300 = df_avis[df_avis['author'].isin(authors_300)]\n",
    "\n",
    "print(f\"Taille de la base après suppression des utilisateurs ayant noté moins de peu de jeux:\")\n",
    "print(f\"  10  --> {len(df_avis_10)}\")\n",
    "print(f\"  100 --> {len(df_avis_100)}\")\n",
    "print(f\"  200 --> {len(df_avis_200)}\")\n",
    "print(f\"  300 --> {len(df_avis_300)}\")"
   ]
  },
  {
   "attachments": {},
   "cell_type": "markdown",
   "id": "2c4bafa7",
   "metadata": {},
   "source": [
    "- La base df_avis_10  contient **149070** lignes pour **2849** utilisateurs et **10284** jeux.\n",
    "- La base df_avis_100 contient **78628** lignes pour **359** utilisateurs et **8884** jeux.\n",
    "- La base df_avis_200 contient **46249** lignes pour **128** utilisateurs et **7841** jeux.\n",
    "- La base df_avis_300 contient **29916** lignes pour **61** utilisateurs et **6941** jeux."
   ]
  },
  {
   "attachments": {},
   "cell_type": "markdown",
   "id": "e270ccd2",
   "metadata": {},
   "source": [
    "## Separation des données en plusieurs données jouets pour la validation croisée(5 paquets de train/test).\n",
    "Récupération de la liste de tous les jeux qui pourront être recommendés."
   ]
  },
  {
   "cell_type": "code",
   "execution_count": 223,
   "id": "ebf6704a",
   "metadata": {},
   "outputs": [
    {
     "name": "stdout",
     "output_type": "stream",
     "text": [
      "Validation croisée en 5 paquets\n"
     ]
    }
   ],
   "source": [
    "\n",
    "from sklearn.model_selection import KFold\n",
    "\n",
    "n_splits = 5\n",
    "kf = KFold(n_splits=n_splits,shuffle=True,random_state=0)\n",
    "\n",
    "splits_10 = []\n",
    "for train, test in kf.split(df_avis_10):\n",
    "  X_train = df_avis_10.iloc[train].copy()\n",
    "  X_test  = df_avis_10.iloc[test].copy()\n",
    "  jeux_existants = set(X_train[\"title\"].unique()) # ensemble des jeux existants\n",
    "  jeux_counts = X_train.groupby('title')[\"note\"].count().sort_values(ascending=False)\n",
    "  jeux_populaires = jeux_counts.index.tolist()\n",
    "  splits_10.append((X_train,X_test,(jeux_existants,jeux_populaires)))\n",
    "\n",
    "splits_100 = []\n",
    "for train, test in kf.split(df_avis_100):\n",
    "  X_train = df_avis_100.iloc[train].copy()\n",
    "  X_test  = df_avis_100.iloc[test].copy()\n",
    "  jeux_existants = set(X_train[\"title\"].unique()) # ensemble des jeux existants\n",
    "  jeux_counts = X_train.groupby('title')[\"note\"].count().sort_values(ascending=False)\n",
    "  jeux_populaires = jeux_counts.index.tolist()\n",
    "  splits_100.append((X_train,X_test,(jeux_existants,jeux_populaires)))\n",
    "\n",
    "splits_200 = []\n",
    "for train, test in kf.split(df_avis_200):\n",
    "  X_train = df_avis_200.iloc[train].copy()\n",
    "  X_test  = df_avis_200.iloc[test].copy()\n",
    "  jeux_existants = set(X_train[\"title\"].unique()) # ensemble des jeux existants\n",
    "  jeux_counts = X_train.groupby('title')[\"note\"].count().sort_values(ascending=False)\n",
    "  jeux_populaires = jeux_counts.index.tolist()\n",
    "  splits_200.append((X_train,X_test,(jeux_existants,jeux_populaires)))\n",
    "\n",
    "splits_300 = []\n",
    "for train, test in kf.split(df_avis_300):\n",
    "  X_train = df_avis_300.iloc[train].copy()\n",
    "  X_test  = df_avis_300.iloc[test].copy()\n",
    "  jeux_existants = set(X_train[\"title\"].unique()) # ensemble des jeux existants\n",
    "  jeux_counts = X_train.groupby('title')[\"note\"].count().sort_values(ascending=False)\n",
    "  jeux_populaires = jeux_counts.index.tolist()\n",
    "  splits_300.append((X_train,X_test,(jeux_existants,jeux_populaires)))\n",
    "\n",
    "print(f\"Validation croisée en {len(splits_10)} paquets\")\n",
    "    "
   ]
  },
  {
   "attachments": {},
   "cell_type": "markdown",
   "id": "937b9cbd",
   "metadata": {},
   "source": [
    "## Nombre d'utilisateurs dans les paquets train et test"
   ]
  },
  {
   "cell_type": "code",
   "execution_count": 199,
   "id": "5d0cc8a0",
   "metadata": {},
   "outputs": [],
   "source": [
    "train_n_utils_10, train_n_jeux_10 = [],[]\n",
    "train_n_utils_100, train_n_jeux_100 = [],[]\n",
    "train_n_utils_200, train_n_jeux_200 = [],[]\n",
    "train_n_utils_300, train_n_jeux_300 = [],[]\n",
    "\n",
    "test_n_utils_10, test_n_jeux_10 = [],[]\n",
    "test_n_utils_100, test_n_jeux_100 = [],[]\n",
    "test_n_utils_200, test_n_jeux_200 = [],[]\n",
    "test_n_utils_300, test_n_jeux_300 = [],[]\n",
    "\n",
    "for ip in range(n_splits):\n",
    "  X_train_10,X_test_10,je   = splits_10[ip]\n",
    "  train_n_utils_10.append(X_train_10['author'].nunique())\n",
    "  test_n_utils_10.append(X_test_10['author'].nunique())\n",
    "  train_n_jeux_10.append(X_train_10['title'].nunique())\n",
    "  test_n_jeux_10.append(X_test_10['title'].nunique())\n",
    "\n",
    "  X_train_100,X_test_100,je = splits_100[ip]\n",
    "  train_n_utils_100.append(X_train_100['author'].nunique())\n",
    "  test_n_utils_100.append(X_test_100['author'].nunique())\n",
    "  train_n_jeux_100.append(X_train_100['title'].nunique())\n",
    "  test_n_jeux_100.append(X_test_100['title'].nunique())\n",
    "  \n",
    "  X_train_200,X_test_200,je = splits_200[ip]\n",
    "  train_n_utils_200.append(X_train_200['author'].nunique())\n",
    "  test_n_utils_200.append(X_test_200['author'].nunique())\n",
    "  train_n_jeux_200.append(X_train_200['title'].nunique())\n",
    "  test_n_jeux_200.append(X_test_200['title'].nunique())\n",
    "  \n",
    "  X_train_300,X_test_300,je = splits_300[ip]\n",
    "  train_n_utils_300.append(X_train_300['author'].nunique())\n",
    "  test_n_utils_300.append(X_test_300['author'].nunique())\n",
    "  train_n_jeux_300.append(X_train_300['title'].nunique())\n",
    "  test_n_jeux_300.append(X_test_300['title'].nunique())"
   ]
  },
  {
   "cell_type": "code",
   "execution_count": 200,
   "id": "f80fc44f",
   "metadata": {},
   "outputs": [
    {
     "name": "stdout",
     "output_type": "stream",
     "text": [
      "Avec les utilisateurs ayant noté au moins 10 jeux:\n",
      "  Utilisateurs:\n",
      "\tNombre d'utilisateurs dans l'ensemble d'apprentissage:\n",
      "\t\tmoy: 2849.0 std: 0.0\n",
      "\t\t --> [2849, 2849, 2849, 2849, 2849]\n",
      "\tNombre d'utilisateurs dans l'ensemble de test:\n",
      "\t\tmoy: 2774.2 std: 5.635601121442148\n",
      "\t\t --> [2769, 2782, 2780, 2769, 2771]\n",
      "  Jeux:\n",
      "\tNombre de jeux dans l'ensemble d'apprentissage:\n",
      "\t\tmoy: 9680.0 std: 20.48414020651099\n",
      "\t\t --> [9678, 9701, 9648, 9703, 9670]\n",
      "\tNombre de jeux dans l'ensemble de test:\n",
      "\t\tmoy: 6070.6 std: 14.66424222385869\n",
      "\t\t --> [6079, 6065, 6095, 6055, 6059]\n"
     ]
    }
   ],
   "source": [
    "print(\"Avec les utilisateurs ayant noté au moins 10 jeux:\")\n",
    "print(\"  Utilisateurs:\")\n",
    "print(f\"\\tNombre d'utilisateurs dans l'ensemble d'apprentissage:\\n\\t\\tmoy: {np.mean(train_n_utils_10)} std: {np.std(train_n_utils_10)}\\n\\t\\t --> {train_n_utils_10}\")\n",
    "print(f\"\\tNombre d'utilisateurs dans l'ensemble de test:\\n\\t\\tmoy: {np.mean(test_n_utils_10)} std: {np.std(test_n_utils_10)}\\n\\t\\t --> {test_n_utils_10}\")\n",
    "print(\"  Jeux:\")\n",
    "print(f\"\\tNombre de jeux dans l'ensemble d'apprentissage:\\n\\t\\tmoy: {np.mean(train_n_jeux_10)} std: {np.std(train_n_jeux_10)}\\n\\t\\t --> {train_n_jeux_10}\")\n",
    "print(f\"\\tNombre de jeux dans l'ensemble de test:\\n\\t\\tmoy: {np.mean(test_n_jeux_10)} std: {np.std(test_n_jeux_10)}\\n\\t\\t --> {test_n_jeux_10}\")"
   ]
  },
  {
   "cell_type": "code",
   "execution_count": 201,
   "id": "3cd19516",
   "metadata": {},
   "outputs": [
    {
     "name": "stdout",
     "output_type": "stream",
     "text": [
      "Avec les utilisateurs ayant noté au moins 100 jeux:\n",
      "  Utilisateurs:\n",
      "\tNombre d'utilisateurs dans l'ensemble d'apprentissage:\n",
      "\t\tmoy: 359.0 std: 0.0\n",
      "\t\t --> [359, 359, 359, 359, 359]\n",
      "\tNombre d'utilisateurs dans l'ensemble de test:\n",
      "\t\tmoy: 359.0 std: 0.0\n",
      "\t\t --> [359, 359, 359, 359, 359]\n",
      "  Jeux:\n",
      "\tNombre de jeux dans l'ensemble d'apprentissage:\n",
      "\t\tmoy: 8265.6 std: 40.60837352074077\n",
      "\t\t --> [8269, 8236, 8280, 8212, 8331]\n",
      "\tNombre de jeux dans l'ensemble de test:\n",
      "\t\tmoy: 4749.4 std: 40.96144528700129\n",
      "\t\t --> [4783, 4789, 4716, 4773, 4686]\n"
     ]
    }
   ],
   "source": [
    "print(\"Avec les utilisateurs ayant noté au moins 100 jeux:\")\n",
    "print(\"  Utilisateurs:\")\n",
    "print(f\"\\tNombre d'utilisateurs dans l'ensemble d'apprentissage:\\n\\t\\tmoy: {np.mean(train_n_utils_100)} std: {np.std(train_n_utils_100)}\\n\\t\\t --> {train_n_utils_100}\")\n",
    "print(f\"\\tNombre d'utilisateurs dans l'ensemble de test:\\n\\t\\tmoy: {np.mean(test_n_utils_100)} std: {np.std(test_n_utils_100)}\\n\\t\\t --> {test_n_utils_100}\")\n",
    "print(\"  Jeux:\")\n",
    "print(f\"\\tNombre de jeux dans l'ensemble d'apprentissage:\\n\\t\\tmoy: {np.mean(train_n_jeux_100)} std: {np.std(train_n_jeux_100)}\\n\\t\\t --> {train_n_jeux_100}\")\n",
    "print(f\"\\tNombre de jeux dans l'ensemble de test:\\n\\t\\tmoy: {np.mean(test_n_jeux_100)} std: {np.std(test_n_jeux_100)}\\n\\t\\t --> {test_n_jeux_100}\")"
   ]
  },
  {
   "cell_type": "code",
   "execution_count": 202,
   "id": "eb88d6b8",
   "metadata": {},
   "outputs": [
    {
     "name": "stdout",
     "output_type": "stream",
     "text": [
      "Avec les utilisateurs ayant noté au moins 200 jeux:\n",
      "  Utilisateurs:\n",
      "\tNombre d'utilisateurs dans l'ensemble d'apprentissage:\n",
      "\t\tmoy: 128.0 std: 0.0\n",
      "\t\t --> [128, 128, 128, 128, 128]\n",
      "\tNombre d'utilisateurs dans l'ensemble de test:\n",
      "\t\tmoy: 128.0 std: 0.0\n",
      "\t\t --> [128, 128, 128, 128, 128]\n",
      "  Jeux:\n",
      "\tNombre de jeux dans l'ensemble d'apprentissage:\n",
      "\t\tmoy: 7226.4 std: 6.6211781428987395\n",
      "\t\t --> [7218, 7220, 7236, 7228, 7230]\n",
      "\tNombre de jeux dans l'ensemble de test:\n",
      "\t\tmoy: 3856.4 std: 25.695135726436625\n",
      "\t\t --> [3810, 3884, 3852, 3861, 3875]\n"
     ]
    }
   ],
   "source": [
    "print(\"Avec les utilisateurs ayant noté au moins 200 jeux:\")\n",
    "print(\"  Utilisateurs:\")\n",
    "print(f\"\\tNombre d'utilisateurs dans l'ensemble d'apprentissage:\\n\\t\\tmoy: {np.mean(train_n_utils_200)} std: {np.std(train_n_utils_200)}\\n\\t\\t --> {train_n_utils_200}\")\n",
    "print(f\"\\tNombre d'utilisateurs dans l'ensemble de test:\\n\\t\\tmoy: {np.mean(test_n_utils_200)} std: {np.std(test_n_utils_200)}\\n\\t\\t --> {test_n_utils_200}\")\n",
    "print(\"  Jeux:\")\n",
    "print(f\"\\tNombre de jeux dans l'ensemble d'apprentissage:\\n\\t\\tmoy: {np.mean(train_n_jeux_200)} std: {np.std(train_n_jeux_200)}\\n\\t\\t --> {train_n_jeux_200}\")\n",
    "print(f\"\\tNombre de jeux dans l'ensemble de test:\\n\\t\\tmoy: {np.mean(test_n_jeux_200)} std: {np.std(test_n_jeux_200)}\\n\\t\\t --> {test_n_jeux_200}\")"
   ]
  },
  {
   "cell_type": "code",
   "execution_count": 203,
   "id": "ca724aee",
   "metadata": {},
   "outputs": [
    {
     "name": "stdout",
     "output_type": "stream",
     "text": [
      "Avec les utilisateurs ayant noté au moins 300 jeux:\n",
      "  Utilisateurs:\n",
      "\tNombre d'utilisateurs dans l'ensemble d'apprentissage:\n",
      "\t\tmoy: 61.0 std: 0.0\n",
      "\t\t --> [61, 61, 61, 61, 61]\n",
      "\tNombre d'utilisateurs dans l'ensemble de test:\n",
      "\t\tmoy: 61.0 std: 0.0\n",
      "\t\t --> [61, 61, 61, 61, 61]\n",
      "  Jeux:\n",
      "\tNombre de jeux dans l'ensemble d'apprentissage:\n",
      "\t\tmoy: 6356.6 std: 10.09158064923429\n",
      "\t\t --> [6357, 6340, 6371, 6361, 6354]\n",
      "\tNombre de jeux dans l'ensemble de test:\n",
      "\t\tmoy: 3175.0 std: 14.042791745233567\n",
      "\t\t --> [3195, 3151, 3175, 3176, 3178]\n"
     ]
    }
   ],
   "source": [
    "print(\"Avec les utilisateurs ayant noté au moins 300 jeux:\")\n",
    "print(\"  Utilisateurs:\")\n",
    "print(f\"\\tNombre d'utilisateurs dans l'ensemble d'apprentissage:\\n\\t\\tmoy: {np.mean(train_n_utils_300)} std: {np.std(train_n_utils_300)}\\n\\t\\t --> {train_n_utils_300}\")\n",
    "print(f\"\\tNombre d'utilisateurs dans l'ensemble de test:\\n\\t\\tmoy: {np.mean(test_n_utils_300)} std: {np.std(test_n_utils_300)}\\n\\t\\t --> {test_n_utils_300}\")\n",
    "print(\"  Jeux:\")\n",
    "print(f\"\\tNombre de jeux dans l'ensemble d'apprentissage:\\n\\t\\tmoy: {np.mean(train_n_jeux_300)} std: {np.std(train_n_jeux_300)}\\n\\t\\t --> {train_n_jeux_300}\")\n",
    "print(f\"\\tNombre de jeux dans l'ensemble de test:\\n\\t\\tmoy: {np.mean(test_n_jeux_300)} std: {np.std(test_n_jeux_300)}\\n\\t\\t --> {test_n_jeux_300}\")"
   ]
  },
  {
   "attachments": {},
   "cell_type": "markdown",
   "id": "ed5d530a",
   "metadata": {},
   "source": [
    "Cas où les utilisateurs ont noté plus de 10 jeux.\n",
    "- Nombre d'utilisateurs dans l'ensemble de la base: **2849**\n",
    "- Nombre d'utilisateurs dans l'ensemble d'apprentissage en moyenne: **2842.8**</br>\n",
    "- Nombre d'utilisateurs dans l'ensemble de test en moyenne: **2385.2**\n",
    "\n",
    "Cas où les utilisateurs ont noté plus de 100 jeux.\n",
    "- Nombre d'utilisateurs dans l'ensemble de la base: **359**\n",
    "- Nombre d'utilisateurs dans l'ensemble d'apprentissage en moyenne: **359.0**</br>\n",
    "- Nombre d'utilisateurs dans l'ensemble de test en moyenne: **358.0**\n",
    "\n",
    "Cas où les utilisateurs ont noté plus de 200 jeux.\n",
    "- Nombre d'utilisateurs dans l'ensemble de la base: **128**\n",
    "- Nombre d'utilisateurs dans l'ensemble d'apprentissage en moyenne: **128.0**</br>\n",
    "- Nombre d'utilisateurs dans l'ensemble de test en moyenne: **128.0**\n",
    "\n",
    "Cas où les utilisateurs ont noté plus de 300 jeux.\n",
    "- Nombre d'utilisateurs dans l'ensemble de la base: **61**\n",
    "- Nombre d'utilisateurs dans l'ensemble d'apprentissage en moyenne: **61.0**</br>\n",
    "- Nombre d'utilisateurs dans l'ensemble de test en moyenne: **61.0**"
   ]
  },
  {
   "cell_type": "markdown",
   "id": "5847740e",
   "metadata": {},
   "source": [
    "## Mean Reciprocal Rank \n",
    "\n",
    "$$ MRR = \\frac{1}{|Q|}\\sum^{|Q|}_{i=1}\\frac{1}{\\text{rank}_i} $$"
   ]
  },
  {
   "cell_type": "code",
   "execution_count": 49,
   "id": "16d09017",
   "metadata": {},
   "outputs": [],
   "source": [
    "def rr(list_items):\n",
    "    relevant_indexes = np.asarray(list_items).nonzero()[0]\n",
    "    \n",
    "    if len(relevant_indexes) > 0:\n",
    "        \n",
    "        #NOTE:\n",
    "        # relevant_indexes[0] <= Contains the index of the 1st relevant item ([0,0,1] => 2)\n",
    "        \n",
    "        return 1 / (relevant_indexes[0] + 1)\n",
    "    else:\n",
    "        return 0\n",
    "\n",
    "def mrr(list_list_items):\n",
    "    rr_list = [rr(list_items) for list_items in list_list_items]\n",
    "    return np.mean(rr_list)"
   ]
  },
  {
   "cell_type": "markdown",
   "id": "2906636b",
   "metadata": {},
   "source": [
    "## Discounted Cumulative Gain\n",
    "\n",
    "$$DCG_p = \\sum^p_{i=1}\\frac{rel_i}{\\log_2{(i+1)}} = rel_1 + \\sum^p_{i=2}\\frac{rel_i}{\\log_2{(i+1)}}$$"
   ]
  },
  {
   "cell_type": "code",
   "execution_count": 50,
   "id": "3285a384",
   "metadata": {},
   "outputs": [],
   "source": [
    "def dcg_at_k(r, k):\n",
    "    \"\"\"Score is discounted cumulative gain (dcg)\n",
    "        r: Relevance scores (list or numpy) in rank order\n",
    "            (first element is the first item)\n",
    "        k: Number of results to consider\n",
    "        \n",
    "    \"\"\"\n",
    "    r = np.asfarray(r)[:k]\n",
    "    if r.size:\n",
    "        return r[0] +  np.sum(r[1:] / np.log2(np.arange(3, r.size + 2)))\n",
    "        \n",
    "    return 0."
   ]
  },
  {
   "cell_type": "markdown",
   "id": "c46ed145",
   "metadata": {},
   "source": [
    "$$ nDCG_p = \\frac{DCG_p}{IDCG_p} $$\n",
    "\n",
    "\n",
    "$$ IDCG_p = max(DCG_p) $$"
   ]
  },
  {
   "cell_type": "code",
   "execution_count": 51,
   "id": "13c91a6d",
   "metadata": {},
   "outputs": [],
   "source": [
    "def ndcg_at_k(r, k):\n",
    "    \"\"\"\n",
    "        r: Relevance scores (list or numpy) in rank order\n",
    "            (first element is the first item)\n",
    "        k: Number of results to consider\n",
    "    \"\"\"\n",
    "    dcg_max =  np.max(dcg_at_k(sorted(r)[::-1], k))\n",
    "    if not dcg_max:\n",
    "        return 0.\n",
    "    return dcg_at_k(r, k)/dcg_max"
   ]
  },
  {
   "attachments": {},
   "cell_type": "markdown",
   "id": "4d0ea7cf",
   "metadata": {},
   "source": [
    "- `already_seen`: les jeux que l'utilisateur a déjà noté. Pour ne pas les recommender encore.\n",
    "- `ground_truth`: Les jeux que l'utilisateur est suseptible d'aimer (note >= 10). C'est notre ground truth l'évaluer nos predictions."
   ]
  },
  {
   "cell_type": "code",
   "execution_count": 204,
   "id": "cdac2ab2",
   "metadata": {},
   "outputs": [],
   "source": [
    "already_seen_10 = []\n",
    "already_seen_100 = []\n",
    "already_seen_200 = []\n",
    "already_seen_300 = []\n",
    "\n",
    "ground_truth_10 = []\n",
    "ground_truth_100 = []\n",
    "ground_truth_200 = []\n",
    "ground_truth_300 = []\n",
    "\n",
    "ground_truth_n7_10 = []\n",
    "ground_truth_n7_100 = []\n",
    "ground_truth_n7_200 = []\n",
    "ground_truth_n7_300 = []\n",
    "\n",
    "for ip in range(n_splits):\n",
    "    # Pour le cas des utilisateurs qui ont noté au moins 10 jeux\n",
    "    X_train_10,X_test_10,je = splits_10[ip]\n",
    "    already_seen = (\n",
    "        X_train_10\n",
    "        .groupby(\"author\")[\"title\"]\n",
    "        .apply(list)\n",
    "        .to_dict()\n",
    "        )\n",
    "\n",
    "    ground_truth = (\n",
    "        X_test_10[X_test_10.note >= 10] \n",
    "        .groupby(\"author\")[\"title\"]\n",
    "        .apply(list)\n",
    "        .to_dict()\n",
    "        )\n",
    "\n",
    "    ground_truth_n7 = (\n",
    "        X_test_10[X_test_10.note >= 7] \n",
    "        .groupby(\"author\")[\"title\"]\n",
    "        .apply(list)\n",
    "        .to_dict()\n",
    "        )\n",
    "    \n",
    "    already_seen_10.append(already_seen)\n",
    "    ground_truth_10.append(ground_truth)\n",
    "    ground_truth_n7_10.append(ground_truth_n7)\n",
    "    \n",
    "    \n",
    "    \n",
    "    # Pour le cas des utilisateurs qui ont noté au moins 100 jeux\n",
    "    X_train_100,X_test_100,je = splits_100[ip]\n",
    "    already_seen = (\n",
    "        X_train_100\n",
    "        .groupby(\"author\")[\"title\"]\n",
    "        .apply(list)\n",
    "        .to_dict()\n",
    "        )\n",
    "\n",
    "    ground_truth = (\n",
    "        X_test_100[X_test_100.note >= 10] \n",
    "        .groupby(\"author\")[\"title\"]\n",
    "        .apply(list)\n",
    "        .to_dict()\n",
    "        )\n",
    "\n",
    "    ground_truth_n7 = (\n",
    "        X_test_100[X_test_100.note >= 7] \n",
    "        .groupby(\"author\")[\"title\"]\n",
    "        .apply(list)\n",
    "        .to_dict()\n",
    "        )\n",
    "    \n",
    "    already_seen_100.append(already_seen)\n",
    "    ground_truth_100.append(ground_truth)\n",
    "    ground_truth_n7_100.append(ground_truth_n7)\n",
    "    \n",
    "    \n",
    "    \n",
    "    # Pour le cas des utilisateurs qui ont noté au moins 200 jeux\n",
    "    X_train_200,X_test_200,je = splits_200[ip]\n",
    "    already_seen = (\n",
    "        X_train_200\n",
    "        .groupby(\"author\")[\"title\"]\n",
    "        .apply(list)\n",
    "        .to_dict()\n",
    "        )\n",
    "\n",
    "    ground_truth = (\n",
    "        X_test_200[X_test_200.note >= 10] \n",
    "        .groupby(\"author\")[\"title\"]\n",
    "        .apply(list)\n",
    "        .to_dict()\n",
    "        )\n",
    "\n",
    "    ground_truth_n7 = (\n",
    "        X_test_200[X_test_200.note >= 7] \n",
    "        .groupby(\"author\")[\"title\"]\n",
    "        .apply(list)\n",
    "        .to_dict()\n",
    "        )\n",
    "    \n",
    "    already_seen_200.append(already_seen)\n",
    "    ground_truth_200.append(ground_truth)\n",
    "    ground_truth_n7_200.append(ground_truth_n7)\n",
    "    \n",
    "    \n",
    "    \n",
    "    # Pour le cas des utilisateurs qui ont noté au moins 300 jeux\n",
    "    X_train_300,X_test_300,je = splits_300[ip]\n",
    "    already_seen = (\n",
    "        X_train_300\n",
    "        .groupby(\"author\")[\"title\"]\n",
    "        .apply(list)\n",
    "        .to_dict()\n",
    "        )\n",
    "\n",
    "    ground_truth = (\n",
    "        X_test_300[X_test_300.note >= 10] \n",
    "        .groupby(\"author\")[\"title\"]\n",
    "        .apply(list)\n",
    "        .to_dict()\n",
    "        )\n",
    "\n",
    "    ground_truth_n7 = (\n",
    "        X_test_300[X_test_300.note >= 7] \n",
    "        .groupby(\"author\")[\"title\"]\n",
    "        .apply(list)\n",
    "        .to_dict()\n",
    "        )\n",
    "    \n",
    "    already_seen_300.append(already_seen)\n",
    "    ground_truth_300.append(ground_truth)\n",
    "    ground_truth_n7_300.append(ground_truth_n7)"
   ]
  },
  {
   "cell_type": "markdown",
   "id": "c047619c",
   "metadata": {},
   "source": [
    "#  Surprise SVD recommender"
   ]
  },
  {
   "cell_type": "code",
   "execution_count": 205,
   "id": "b014d7cd",
   "metadata": {},
   "outputs": [
    {
     "data": {
      "text/plain": [
       "[<surprise.prediction_algorithms.matrix_factorization.SVD at 0x127bdc0a0>,\n",
       " <surprise.prediction_algorithms.matrix_factorization.SVD at 0x1331e16d0>,\n",
       " <surprise.prediction_algorithms.matrix_factorization.SVD at 0x13191adc0>,\n",
       " <surprise.prediction_algorithms.matrix_factorization.SVD at 0x13191a1f0>,\n",
       " <surprise.prediction_algorithms.matrix_factorization.SVD at 0x13191a100>]"
      ]
     },
     "execution_count": 205,
     "metadata": {},
     "output_type": "execute_result"
    }
   ],
   "source": [
    "from surprise import Dataset\n",
    "\n",
    "datas_10 = [Dataset.load_from_df(X_train[['author', 'title', 'note']], Reader(rating_scale=(1, 10))) for X_train,X_test,je in splits_10]\n",
    "models_10 = [SVD() for i in range(len(splits_10))]\n",
    "[model.fit(data.build_full_trainset()) for model,data in zip(models_10,datas_10)]\n",
    "\n",
    "datas_100 = [Dataset.load_from_df(X_train[['author', 'title', 'note']], Reader(rating_scale=(1, 10))) for X_train,X_test,je in splits_100]\n",
    "models_100 = [SVD() for i in range(len(splits_100))]\n",
    "[model.fit(data.build_full_trainset()) for model,data in zip(models_100,datas_100)]\n",
    "\n",
    "datas_200 = [Dataset.load_from_df(X_train[['author', 'title', 'note']], Reader(rating_scale=(1, 10))) for X_train,X_test,je in splits_200]\n",
    "models_200 = [SVD() for i in range(len(splits_200))]\n",
    "[model.fit(data.build_full_trainset()) for model,data in zip(models_200,datas_200)]\n",
    "\n",
    "datas_300 = [Dataset.load_from_df(X_train[['author', 'title', 'note']], Reader(rating_scale=(1, 10))) for X_train,X_test,je in splits_300]\n",
    "models_300 = [SVD() for i in range(len(splits_300))]\n",
    "[model.fit(data.build_full_trainset()) for model,data in zip(models_300,datas_300)]"
   ]
  },
  {
   "cell_type": "code",
   "execution_count": 206,
   "id": "652f5723",
   "metadata": {},
   "outputs": [],
   "source": [
    "model_et = None\n",
    "def svd_rating_pred(user_item):\n",
    "    user = user_item[\"author\"]\n",
    "    item = user_item[\"title\"]\n",
    "    \n",
    "    prediction = model_et.predict(user,item)\n",
    "    \n",
    "    return prediction.est\n",
    "\n",
    "for ip in range(n_splits):\n",
    "    X_train,X_test,je = splits_10[ip]\n",
    "    model_et = models_10[ip]\n",
    "    X_test[\"svd_prediction\"] = X_test[[\"author\",\"title\"]].apply(svd_rating_pred,axis=1) \n",
    "\n",
    "for ip in range(n_splits):\n",
    "    X_train,X_test,je = splits_100[ip]\n",
    "    model_et = models_100[ip]\n",
    "    X_test[\"svd_prediction\"] = X_test[[\"author\",\"title\"]].apply(svd_rating_pred,axis=1) \n",
    "\n",
    "for ip in range(n_splits):\n",
    "    X_train,X_test,je = splits_200[ip]\n",
    "    model_et = models_200[ip]\n",
    "    X_test[\"svd_prediction\"] = X_test[[\"author\",\"title\"]].apply(svd_rating_pred,axis=1) \n",
    "\n",
    "for ip in range(n_splits):\n",
    "    X_train,X_test,je = splits_300[ip]\n",
    "    model_et = models_300[ip]\n",
    "    X_test[\"svd_prediction\"] = X_test[[\"author\",\"title\"]].apply(svd_rating_pred,axis=1) "
   ]
  },
  {
   "cell_type": "code",
   "execution_count": 207,
   "id": "2f61bc40",
   "metadata": {},
   "outputs": [
    {
     "name": "stdout",
     "output_type": "stream",
     "text": [
      "Avec les utilisateurs ayant noté au moins 10 jeux\n",
      "  MSE:\n",
      "    moy 3.593364795978516\n",
      "    std 0.020537749911748945\n",
      "    [3.602874350008256, 3.6017421940893746, 3.604530987940075, 3.5523650582100306, 3.605311389644846]\n",
      "  MAE:\n",
      "    moy 1.4611836483434681\n",
      "    std 0.004875582707955394\n",
      "    [1.4586741026187946, 1.4633325801599153, 1.4658636388745154, 1.4528308191714352, 1.4652171008926802]\n",
      "Avec les utilisateurs ayant noté au moins 100 jeux\n",
      "  MSE:\n",
      "    moy 3.5958932210913597\n",
      "    std 0.04313574799271388\n",
      "    [3.5162900643633304, 3.628148953064607, 3.5840164902932132, 3.6294778253515068, 3.6215327723841395]\n",
      "  MAE:\n",
      "    moy 1.476121072742523\n",
      "    std 0.008628834445751181\n",
      "    [1.4597153712099908, 1.483080545702996, 1.4778372742370134, 1.4832936991606482, 1.4766784734019658]\n",
      "Avec les utilisateurs ayant noté au moins 200 jeux\n",
      "  MSE:\n",
      "    moy 3.6313366349288367\n",
      "    std 0.09084735505144204\n",
      "    [3.715121596096532, 3.5075898120780757, 3.6857225155075595, 3.7132065078949124, 3.5350427430671014]\n",
      "  MAE:\n",
      "    moy 1.4942250641080723\n",
      "    std 0.017149794417643725\n",
      "    [1.5099715109933778, 1.4667193754271883, 1.506880832193073, 1.5061358745127955, 1.4814177274139277]\n",
      "Avec les utilisateurs ayant noté au moins 300 jeux\n",
      "  MSE:\n",
      "    moy 3.449540882668206\n",
      "    std 0.05677048254800109\n",
      "    [3.3854864745628115, 3.43597936892363, 3.5300852118917994, 3.396424574300481, 3.499728783662309]\n",
      "  MAE:\n",
      "    moy 1.449632184288341\n",
      "    std 0.007833431635034608\n",
      "    [1.4355755274733595, 1.450661278052293, 1.459166178432584, 1.4490162304025462, 1.4537417070809227]\n"
     ]
    }
   ],
   "source": [
    "mses_10,maes_10 = [],[]\n",
    "mses_100,maes_100 = [],[]\n",
    "mses_200,maes_200 = [],[]\n",
    "mses_300,maes_300 = [],[]\n",
    "\n",
    "for ip in range(n_splits):\n",
    "  X_train,X_test,je = splits_10[ip]\n",
    "  mse = ((X_test[\"note\"] - X_test[\"svd_prediction\"])**2).mean()\n",
    "  mae = ((X_test[\"note\"] - X_test[\"svd_prediction\"]).abs()).mean()\n",
    "  mses_10.append(mse)\n",
    "  maes_10.append(mae)\n",
    "  \n",
    "  X_train,X_test,je = splits_100[ip]\n",
    "  mse = ((X_test[\"note\"] - X_test[\"svd_prediction\"])**2).mean()\n",
    "  mae = ((X_test[\"note\"] - X_test[\"svd_prediction\"]).abs()).mean()\n",
    "  mses_100.append(mse)\n",
    "  maes_100.append(mae)\n",
    "  \n",
    "  X_train,X_test,je = splits_200[ip]\n",
    "  mse = ((X_test[\"note\"] - X_test[\"svd_prediction\"])**2).mean()\n",
    "  mae = ((X_test[\"note\"] - X_test[\"svd_prediction\"]).abs()).mean()\n",
    "  mses_200.append(mse)\n",
    "  maes_200.append(mae)\n",
    "  \n",
    "  X_train,X_test,je = splits_300[ip]\n",
    "  mse = ((X_test[\"note\"] - X_test[\"svd_prediction\"])**2).mean()\n",
    "  mae = ((X_test[\"note\"] - X_test[\"svd_prediction\"]).abs()).mean()\n",
    "  mses_300.append(mse)\n",
    "  maes_300.append(mae)\n",
    "\n",
    "print(\"Avec les utilisateurs ayant noté au moins 10 jeux\")\n",
    "print(f\"  MSE:\\n    moy {np.mean(mses_10)}\\n    std {np.std(mses_10)}\\n    {mses_10}\")\n",
    "print(f\"  MAE:\\n    moy {np.mean(maes_10)}\\n    std {np.std(maes_10)}\\n    {maes_10}\")\n",
    "print(\"Avec les utilisateurs ayant noté au moins 100 jeux\")\n",
    "print(f\"  MSE:\\n    moy {np.mean(mses_100)}\\n    std {np.std(mses_100)}\\n    {mses_100}\")\n",
    "print(f\"  MAE:\\n    moy {np.mean(maes_100)}\\n    std {np.std(maes_100)}\\n    {maes_100}\")\n",
    "print(\"Avec les utilisateurs ayant noté au moins 200 jeux\")\n",
    "print(f\"  MSE:\\n    moy {np.mean(mses_200)}\\n    std {np.std(mses_200)}\\n    {mses_200}\")\n",
    "print(f\"  MAE:\\n    moy {np.mean(maes_200)}\\n    std {np.std(maes_200)}\\n    {maes_200}\")\n",
    "print(\"Avec les utilisateurs ayant noté au moins 300 jeux\")\n",
    "print(f\"  MSE:\\n    moy {np.mean(mses_300)}\\n    std {np.std(mses_300)}\\n    {mses_300}\")\n",
    "print(f\"  MAE:\\n    moy {np.mean(maes_300)}\\n    std {np.std(maes_300)}\\n    {maes_300}\")"
   ]
  },
  {
   "cell_type": "code",
   "execution_count": 208,
   "id": "e89f4050",
   "metadata": {},
   "outputs": [],
   "source": [
    "def model_rating_pred(model,user,item):\n",
    "    prediction = model.predict(user,item)\n",
    "    return prediction.est"
   ]
  },
  {
   "cell_type": "markdown",
   "id": "a872d587",
   "metadata": {},
   "source": [
    "###  the relevance list for our MRR function"
   ]
  },
  {
   "cell_type": "code",
   "execution_count": 211,
   "id": "39e8380c",
   "metadata": {},
   "outputs": [],
   "source": [
    "svd_mrrs_10 = []\n",
    "\n",
    "for ip in range(n_splits):\n",
    "    already_seen = already_seen_10[ip]\n",
    "    ground_truth = ground_truth_10[ip]\n",
    "    jeux_existants = splits_10[ip][2][0]\n",
    "    model = models_10[ip]\n",
    "    \n",
    "    list_of_rel = []\n",
    "    for user,will_see in ground_truth.items():\n",
    "        rel_list = []\n",
    "        will_see = set(will_see)\n",
    "        # user pas present dans X_train\n",
    "        if user not in already_seen:\n",
    "            continue\n",
    "        has_seen = set(already_seen[user])\n",
    "        can_see = [(mid,model_rating_pred(model,user,mid)) for mid in jeux_existants - has_seen]\n",
    "        \n",
    "        \n",
    "        for movie,score in reversed(sorted(can_see,key=lambda x:x[1])):\n",
    "            if movie in will_see:\n",
    "                rel_list.append(1)\n",
    "                break\n",
    "            else:\n",
    "                rel_list.append(0)        \n",
    "        rel_list[-1] = 1 # when no relevant item exist\n",
    "        list_of_rel.append(rel_list)\n",
    "    svd_mrr = mrr(list_of_rel)\n",
    "    svd_mrrs_10.append(svd_mrr)"
   ]
  },
  {
   "cell_type": "code",
   "execution_count": 212,
   "id": "23c110e5",
   "metadata": {},
   "outputs": [],
   "source": [
    "svd_mrrs_100 = []\n",
    "\n",
    "for ip in range(n_splits):\n",
    "    already_seen = already_seen_100[ip]\n",
    "    ground_truth = ground_truth_100[ip]\n",
    "    jeux_existants = splits_100[ip][2][0]\n",
    "    model = models_100[ip]\n",
    "    \n",
    "    list_of_rel = []\n",
    "    for user,will_see in ground_truth.items():\n",
    "        rel_list = []\n",
    "        will_see = set(will_see)\n",
    "        # user pas present dans X_train\n",
    "        if user not in already_seen:\n",
    "            continue\n",
    "        has_seen = set(already_seen[user])\n",
    "        can_see = [(mid,model_rating_pred(model,user,mid)) for mid in jeux_existants - has_seen]\n",
    "        \n",
    "        \n",
    "        for movie,score in reversed(sorted(can_see,key=lambda x:x[1])):\n",
    "            if movie in will_see:\n",
    "                rel_list.append(1)\n",
    "                break\n",
    "            else:\n",
    "                rel_list.append(0)        \n",
    "        rel_list[-1] = 1 # when no relevant item exist\n",
    "        list_of_rel.append(rel_list)\n",
    "    svd_mrr = mrr(list_of_rel)\n",
    "    svd_mrrs_100.append(svd_mrr)"
   ]
  },
  {
   "cell_type": "code",
   "execution_count": 213,
   "id": "7e42b263",
   "metadata": {},
   "outputs": [],
   "source": [
    "svd_mrrs_200 = []\n",
    "\n",
    "for ip in range(n_splits):\n",
    "    already_seen = already_seen_200[ip]\n",
    "    ground_truth = ground_truth_200[ip]\n",
    "    jeux_existants = splits_200[ip][2][0]\n",
    "    model = models_200[ip]\n",
    "    \n",
    "    list_of_rel = []\n",
    "    for user,will_see in ground_truth.items():\n",
    "        rel_list = []\n",
    "        will_see = set(will_see)\n",
    "        # user pas present dans X_train\n",
    "        if user not in already_seen:\n",
    "            continue\n",
    "        has_seen = set(already_seen[user])\n",
    "        can_see = [(mid,model_rating_pred(model,user,mid)) for mid in jeux_existants - has_seen]\n",
    "        \n",
    "        \n",
    "        for movie,score in reversed(sorted(can_see,key=lambda x:x[1])):\n",
    "            if movie in will_see:\n",
    "                rel_list.append(1)\n",
    "                break\n",
    "            else:\n",
    "                rel_list.append(0)        \n",
    "        rel_list[-1] = 1 # when no relevant item exist\n",
    "        list_of_rel.append(rel_list)\n",
    "    svd_mrr = mrr(list_of_rel)\n",
    "    svd_mrrs_200.append(svd_mrr)"
   ]
  },
  {
   "cell_type": "code",
   "execution_count": 214,
   "id": "be88f173",
   "metadata": {},
   "outputs": [],
   "source": [
    "svd_mrrs_300 = []\n",
    "\n",
    "for ip in range(n_splits):\n",
    "    already_seen = already_seen_300[ip]\n",
    "    ground_truth = ground_truth_300[ip]\n",
    "    jeux_existants = splits_300[ip][2][0]\n",
    "    model = models_300[ip]\n",
    "    \n",
    "    list_of_rel = []\n",
    "    for user,will_see in ground_truth.items():\n",
    "        rel_list = []\n",
    "        will_see = set(will_see)\n",
    "        # user pas present dans X_train\n",
    "        if user not in already_seen:\n",
    "            continue\n",
    "        has_seen = set(already_seen[user])\n",
    "        can_see = [(mid,model_rating_pred(model,user,mid)) for mid in jeux_existants - has_seen]\n",
    "        \n",
    "        \n",
    "        for movie,score in reversed(sorted(can_see,key=lambda x:x[1])):\n",
    "            if movie in will_see:\n",
    "                rel_list.append(1)\n",
    "                break\n",
    "            else:\n",
    "                rel_list.append(0)        \n",
    "        rel_list[-1] = 1 # when no relevant item exist\n",
    "        list_of_rel.append(rel_list)\n",
    "    svd_mrr = mrr(list_of_rel)\n",
    "    svd_mrrs_300.append(svd_mrr)"
   ]
  },
  {
   "cell_type": "code",
   "execution_count": 216,
   "id": "49d0b925",
   "metadata": {},
   "outputs": [
    {
     "name": "stdout",
     "output_type": "stream",
     "text": [
      "Avec les utilisateurs ayant noté au moins 10 jeux\n",
      "  moy 35.8\n",
      "  std 2.9257477676655586 sur 9680.0\n",
      "  [31, 39, 37, 34, 38]\n",
      "Avec les utilisateurs ayant noté au moins 100 jeux\n",
      "  moy 10.0\n",
      "  std 0.6324555320336759 sur 8265.6\n",
      "  [10, 11, 9, 10, 10]\n",
      "Avec les utilisateurs ayant noté au moins 200 jeux\n",
      "  moy 7.8\n",
      "  std 1.16619037896906 sur 7226.4\n",
      "  [7, 9, 6, 8, 9]\n",
      "Avec les utilisateurs ayant noté au moins 300 jeux\n",
      "  moy 7.2\n",
      "  std 1.6 sur 6356.6\n",
      "  [7, 9, 6, 9, 5]\n"
     ]
    }
   ],
   "source": [
    "rels_10,rels_100,rels_200,rels_300 = [],[],[],[]\n",
    "jeux_existants_10  = [len(je) for X_train,X_test,je in splits_10]\n",
    "jeux_existants_100 = [len(je) for X_train,X_test,je in splits_100]\n",
    "jeux_existants_200 = [len(je) for X_train,X_test,je in splits_200]\n",
    "jeux_existants_300 = [len(je) for X_train,X_test,je in splits_300]\n",
    "\n",
    "for i in range(len(svd_mrrs_10)):\n",
    "  svd_mrr = svd_mrrs_10[i]\n",
    "  rels_10.append(int(round(1/svd_mrr,0)))\n",
    "  \n",
    "  svd_mrr = svd_mrrs_100[i]\n",
    "  rels_100.append(int(round(1/svd_mrr,0)))\n",
    "  \n",
    "  svd_mrr = svd_mrrs_200[i]\n",
    "  rels_200.append(int(round(1/svd_mrr,0)))\n",
    "  \n",
    "  svd_mrr = svd_mrrs_300[i]\n",
    "  rels_300.append(int(round(1/svd_mrr,0)))\n",
    "\n",
    "# f\"On average, the {int(round(1/svd_mrr,0))}th proposed item is relevant (on {len(existing_items)})\"\n",
    "print(\"Avec les utilisateurs ayant noté au moins 10 jeux\")\n",
    "print(f\"  moy {np.mean(rels_10)}\\n  std {np.std(rels_10)} sur {np.mean(jeux_existants_10)}\\n  {rels_10}\")\n",
    "print(\"Avec les utilisateurs ayant noté au moins 100 jeux\")\n",
    "print(f\"  moy {np.mean(rels_100)}\\n  std {np.std(rels_100)} sur {np.mean(jeux_existants_100)}\\n  {rels_100}\")\n",
    "print(\"Avec les utilisateurs ayant noté au moins 200 jeux\")\n",
    "print(f\"  moy {np.mean(rels_200)}\\n  std {np.std(rels_200)} sur {np.mean(jeux_existants_200)}\\n  {rels_200}\")\n",
    "print(\"Avec les utilisateurs ayant noté au moins 300 jeux\")\n",
    "print(f\"  moy {np.mean(rels_300)}\\n  std {np.std(rels_300)} sur {np.mean(jeux_existants_300)}\\n  {rels_300}\")"
   ]
  },
  {
   "attachments": {},
   "cell_type": "markdown",
   "id": "7353c1e2",
   "metadata": {},
   "source": [
    "- En éliminant les utilisateurs ayant noter moins de **300** jeux nous avons une mrr de **7** sur **6358**. </br>\n",
    "\n",
    "- En éliminant les utilisateurs ayant noter moins de **100** jeux nous avons une mrr de **13** sur **8258**. </br>\n",
    "\n",
    "- En éliminant les utilisateurs ayant noter moins de **10** jeux nous avons une mrr de **35** sur **9690**."
   ]
  },
  {
   "attachments": {},
   "cell_type": "markdown",
   "id": "5e073ace",
   "metadata": {},
   "source": [
    "###  the relevance list for our MRR function avec note>=7"
   ]
  },
  {
   "cell_type": "code",
   "execution_count": 217,
   "id": "b6247e9a",
   "metadata": {},
   "outputs": [],
   "source": [
    "svd_mrrs_10 = []\n",
    "\n",
    "for ip in range(n_splits):\n",
    "    already_seen = already_seen_10[ip]\n",
    "    ground_truth = ground_truth_n7_10[ip]\n",
    "    jeux_existants = splits_10[ip][2][0]\n",
    "    model = models_10[ip]\n",
    "    \n",
    "    list_of_rel = []\n",
    "    for user,will_see in ground_truth.items():\n",
    "        rel_list = []\n",
    "        will_see = set(will_see)\n",
    "        # user pas present dans X_train\n",
    "        if user not in already_seen:\n",
    "            continue\n",
    "        has_seen = set(already_seen[user])\n",
    "        can_see = [(mid,model_rating_pred(model,user,mid)) for mid in jeux_existants - has_seen]\n",
    "        \n",
    "        \n",
    "        for movie,score in reversed(sorted(can_see,key=lambda x:x[1])):\n",
    "            if movie in will_see:\n",
    "                rel_list.append(1)\n",
    "                break\n",
    "            else:\n",
    "                rel_list.append(0)        \n",
    "        rel_list[-1] = 1 # when no relevant item exist\n",
    "        list_of_rel.append(rel_list)\n",
    "    svd_mrr = mrr(list_of_rel)\n",
    "    svd_mrrs_10.append(svd_mrr)"
   ]
  },
  {
   "cell_type": "code",
   "execution_count": 218,
   "id": "addd05e2",
   "metadata": {},
   "outputs": [],
   "source": [
    "svd_mrrs_100 = []\n",
    "\n",
    "for ip in range(n_splits):\n",
    "    already_seen = already_seen_100[ip]\n",
    "    ground_truth = ground_truth_n7_100[ip]\n",
    "    jeux_existants = splits_100[ip][2][0]\n",
    "    model = models_100[ip]\n",
    "    \n",
    "    list_of_rel = []\n",
    "    for user,will_see in ground_truth.items():\n",
    "        rel_list = []\n",
    "        will_see = set(will_see)\n",
    "        # user pas present dans X_train\n",
    "        if user not in already_seen:\n",
    "            continue\n",
    "        has_seen = set(already_seen[user])\n",
    "        can_see = [(mid,model_rating_pred(model,user,mid)) for mid in jeux_existants - has_seen]\n",
    "        \n",
    "        \n",
    "        for movie,score in reversed(sorted(can_see,key=lambda x:x[1])):\n",
    "            if movie in will_see:\n",
    "                rel_list.append(1)\n",
    "                break\n",
    "            else:\n",
    "                rel_list.append(0)        \n",
    "        rel_list[-1] = 1 # when no relevant item exist\n",
    "        list_of_rel.append(rel_list)\n",
    "    svd_mrr = mrr(list_of_rel)\n",
    "    svd_mrrs_100.append(svd_mrr)"
   ]
  },
  {
   "cell_type": "code",
   "execution_count": 219,
   "id": "84cf21ce",
   "metadata": {},
   "outputs": [],
   "source": [
    "svd_mrrs_200 = []\n",
    "\n",
    "for ip in range(n_splits):\n",
    "    already_seen = already_seen_200[ip]\n",
    "    ground_truth = ground_truth_n7_200[ip]\n",
    "    jeux_existants = splits_200[ip][2][0]\n",
    "    model = models_200[ip]\n",
    "    \n",
    "    list_of_rel = []\n",
    "    for user,will_see in ground_truth.items():\n",
    "        rel_list = []\n",
    "        will_see = set(will_see)\n",
    "        # user pas present dans X_train\n",
    "        if user not in already_seen:\n",
    "            continue\n",
    "        has_seen = set(already_seen[user])\n",
    "        can_see = [(mid,model_rating_pred(model,user,mid)) for mid in jeux_existants - has_seen]\n",
    "        \n",
    "        \n",
    "        for movie,score in reversed(sorted(can_see,key=lambda x:x[1])):\n",
    "            if movie in will_see:\n",
    "                rel_list.append(1)\n",
    "                break\n",
    "            else:\n",
    "                rel_list.append(0)        \n",
    "        rel_list[-1] = 1 # when no relevant item exist\n",
    "        list_of_rel.append(rel_list)\n",
    "    svd_mrr = mrr(list_of_rel)\n",
    "    svd_mrrs_200.append(svd_mrr)"
   ]
  },
  {
   "cell_type": "code",
   "execution_count": 220,
   "id": "a87567d8",
   "metadata": {},
   "outputs": [],
   "source": [
    "svd_mrrs_300 = []\n",
    "\n",
    "for ip in range(n_splits):\n",
    "    already_seen = already_seen_300[ip]\n",
    "    ground_truth = ground_truth_n7_300[ip]\n",
    "    jeux_existants = splits_300[ip][2][0]\n",
    "    model = models_300[ip]\n",
    "    \n",
    "    list_of_rel = []\n",
    "    for user,will_see in ground_truth.items():\n",
    "        rel_list = []\n",
    "        will_see = set(will_see)\n",
    "        # user pas present dans X_train\n",
    "        if user not in already_seen:\n",
    "            continue\n",
    "        has_seen = set(already_seen[user])\n",
    "        can_see = [(mid,model_rating_pred(model,user,mid)) for mid in jeux_existants - has_seen]\n",
    "        \n",
    "        \n",
    "        for movie,score in reversed(sorted(can_see,key=lambda x:x[1])):\n",
    "            if movie in will_see:\n",
    "                rel_list.append(1)\n",
    "                break\n",
    "            else:\n",
    "                rel_list.append(0)        \n",
    "        rel_list[-1] = 1 # when no relevant item exist\n",
    "        list_of_rel.append(rel_list)\n",
    "    svd_mrr = mrr(list_of_rel)\n",
    "    svd_mrrs_300.append(svd_mrr)"
   ]
  },
  {
   "cell_type": "code",
   "execution_count": 221,
   "id": "81b82e8e",
   "metadata": {},
   "outputs": [
    {
     "name": "stdout",
     "output_type": "stream",
     "text": [
      "Avec les utilisateurs ayant noté au moins 10 jeux\n",
      "  moy 30.0\n",
      "  std 2.0976176963403033 sur 9680.0\n",
      "  [28, 32, 31, 27, 32]\n",
      "Avec les utilisateurs ayant noté au moins 100 jeux\n",
      "  moy 6.4\n",
      "  std 0.48989794855663565 sur 8265.6\n",
      "  [7, 6, 6, 7, 6]\n",
      "Avec les utilisateurs ayant noté au moins 200 jeux\n",
      "  moy 4.2\n",
      "  std 0.39999999999999997 sur 7226.4\n",
      "  [4, 4, 4, 4, 5]\n",
      "Avec les utilisateurs ayant noté au moins 300 jeux\n",
      "  moy 4.0\n",
      "  std 0.6324555320336759 sur 6356.6\n",
      "  [4, 4, 4, 5, 3]\n"
     ]
    }
   ],
   "source": [
    "rels_10,rels_100,rels_200,rels_300 = [],[],[],[]\n",
    "\n",
    "for i in range(len(svd_mrrs_10)):\n",
    "  svd_mrr = svd_mrrs_10[i]\n",
    "  rels_10.append(int(round(1/svd_mrr,0)))\n",
    "  \n",
    "  svd_mrr = svd_mrrs_100[i]\n",
    "  rels_100.append(int(round(1/svd_mrr,0)))\n",
    "  \n",
    "  svd_mrr = svd_mrrs_200[i]\n",
    "  rels_200.append(int(round(1/svd_mrr,0)))\n",
    "  \n",
    "  svd_mrr = svd_mrrs_300[i]\n",
    "  rels_300.append(int(round(1/svd_mrr,0)))\n",
    "\n",
    "# f\"On average, the {int(round(1/svd_mrr,0))}th proposed item is relevant (on {len(existing_items)})\"\n",
    "print(\"Avec les utilisateurs ayant noté au moins 10 jeux\")\n",
    "print(f\"  moy {np.mean(rels_10)}\\n  std {np.std(rels_10)} sur {np.mean(jeux_existants_10)}\\n  {rels_10}\")\n",
    "print(\"Avec les utilisateurs ayant noté au moins 100 jeux\")\n",
    "print(f\"  moy {np.mean(rels_100)}\\n  std {np.std(rels_100)} sur {np.mean(jeux_existants_100)}\\n  {rels_100}\")\n",
    "print(\"Avec les utilisateurs ayant noté au moins 200 jeux\")\n",
    "print(f\"  moy {np.mean(rels_200)}\\n  std {np.std(rels_200)} sur {np.mean(jeux_existants_200)}\\n  {rels_200}\")\n",
    "print(\"Avec les utilisateurs ayant noté au moins 300 jeux\")\n",
    "print(f\"  moy {np.mean(rels_300)}\\n  std {np.std(rels_300)} sur {np.mean(jeux_existants_300)}\\n  {rels_300}\")"
   ]
  },
  {
   "attachments": {},
   "cell_type": "markdown",
   "id": "0b25df31",
   "metadata": {},
   "source": [
    "En considérant que si un utilisateur met une note >= 7 il aime le film les performances de la recommendations sont nettement améliorées, pas beaucoup mais c'est quand même significatif.\n",
    "\n",
    "- pour >= 10 on a 30.0 vs 35.8\n",
    "- pour >= 100 on a 6.4 vs 10\n",
    "- pour >= 200 on a 4.2 vs 7.8\n",
    "- pour >= 300 on a 4.0 vs 7.2"
   ]
  },
  {
   "cell_type": "markdown",
   "id": "64cd352a",
   "metadata": {},
   "source": [
    "# Implicit baseline: popular items"
   ]
  },
  {
   "cell_type": "markdown",
   "id": "d70d99be",
   "metadata": {},
   "source": [
    "### popular recommendation relevance list per user"
   ]
  },
  {
   "cell_type": "code",
   "execution_count": 226,
   "id": "5973913c",
   "metadata": {},
   "outputs": [],
   "source": [
    "list_of_rels_10 = []\n",
    "\n",
    "for ip in range(n_splits):\n",
    "    already_seen = already_seen_10[ip]\n",
    "    ground_truth = ground_truth_10[ip]\n",
    "    jeux_populaires = splits_10[ip][2][1]\n",
    "    model = models_10[ip]\n",
    "\n",
    "    list_of_rel = []\n",
    "    for user,will_see in ground_truth.items():\n",
    "        rel_list = []\n",
    "        will_see = set(will_see)\n",
    "        has_seen = set(already_seen[user])\n",
    "        \n",
    "        for movie in jeux_populaires:\n",
    "            if movie in has_seen:         # User has already seen movie -> Can filter prediction\n",
    "                continue\n",
    "            elif movie in will_see:       # User will see, spot on suggestion !         \n",
    "                rel_list.append(1) # To Complete\n",
    "                break\n",
    "            else:                         # No clue.\n",
    "                rel_list.append(0) # To Complete\n",
    "                \n",
    "        if rel_list[-1] == 1:             # when no relevant item exist, no need to take it into account.\n",
    "            list_of_rel.append(rel_list)\n",
    "    list_of_rels_10.append(list_of_rel)"
   ]
  },
  {
   "cell_type": "code",
   "execution_count": 227,
   "id": "5c890ed1",
   "metadata": {},
   "outputs": [],
   "source": [
    "list_of_rels_100 = []\n",
    "\n",
    "for ip in range(n_splits):\n",
    "    already_seen = already_seen_100[ip]\n",
    "    ground_truth = ground_truth_100[ip]\n",
    "    jeux_populaires = splits_100[ip][2][1]\n",
    "    model = models_100[ip]\n",
    "\n",
    "    list_of_rel = []\n",
    "    for user,will_see in ground_truth.items():\n",
    "        rel_list = []\n",
    "        will_see = set(will_see)\n",
    "        has_seen = set(already_seen[user])\n",
    "        \n",
    "        for movie in jeux_populaires:\n",
    "            if movie in has_seen:         # User has already seen movie -> Can filter prediction\n",
    "                continue\n",
    "            elif movie in will_see:       # User will see, spot on suggestion !         \n",
    "                rel_list.append(1) # To Complete\n",
    "                break\n",
    "            else:                         # No clue.\n",
    "                rel_list.append(0) # To Complete\n",
    "                \n",
    "        if rel_list[-1] == 1:             # when no relevant item exist, no need to take it into account.\n",
    "            list_of_rel.append(rel_list)\n",
    "    list_of_rels_100.append(list_of_rel)"
   ]
  },
  {
   "cell_type": "code",
   "execution_count": 228,
   "id": "b36bfe22",
   "metadata": {},
   "outputs": [],
   "source": [
    "list_of_rels_200 = []\n",
    "\n",
    "for ip in range(n_splits):\n",
    "    already_seen = already_seen_200[ip]\n",
    "    ground_truth = ground_truth_200[ip]\n",
    "    jeux_populaires = splits_200[ip][2][1]\n",
    "    model = models_200[ip]\n",
    "\n",
    "    list_of_rel = []\n",
    "    for user,will_see in ground_truth.items():\n",
    "        rel_list = []\n",
    "        will_see = set(will_see)\n",
    "        has_seen = set(already_seen[user])\n",
    "        \n",
    "        for movie in jeux_populaires:\n",
    "            if movie in has_seen:         # User has already seen movie -> Can filter prediction\n",
    "                continue\n",
    "            elif movie in will_see:       # User will see, spot on suggestion !         \n",
    "                rel_list.append(1) # To Complete\n",
    "                break\n",
    "            else:                         # No clue.\n",
    "                rel_list.append(0) # To Complete\n",
    "                \n",
    "        if rel_list[-1] == 1:             # when no relevant item exist, no need to take it into account.\n",
    "            list_of_rel.append(rel_list)\n",
    "    list_of_rels_200.append(list_of_rel)"
   ]
  },
  {
   "cell_type": "code",
   "execution_count": 229,
   "id": "aa56d00c",
   "metadata": {},
   "outputs": [],
   "source": [
    "list_of_rels_300 = []\n",
    "\n",
    "for ip in range(n_splits):\n",
    "    already_seen = already_seen_300[ip]\n",
    "    ground_truth = ground_truth_300[ip]\n",
    "    jeux_populaires = splits_300[ip][2][1]\n",
    "    model = models_300[ip]\n",
    "\n",
    "    list_of_rel = []\n",
    "    for user,will_see in ground_truth.items():\n",
    "        rel_list = []\n",
    "        will_see = set(will_see)\n",
    "        has_seen = set(already_seen[user])\n",
    "        \n",
    "        for movie in jeux_populaires:\n",
    "            if movie in has_seen:         # User has already seen movie -> Can filter prediction\n",
    "                continue\n",
    "            elif movie in will_see:       # User will see, spot on suggestion !         \n",
    "                rel_list.append(1) # To Complete\n",
    "                break\n",
    "            else:                         # No clue.\n",
    "                rel_list.append(0) # To Complete\n",
    "                \n",
    "        if rel_list[-1] == 1:             # when no relevant item exist, no need to take it into account.\n",
    "            list_of_rel.append(rel_list)\n",
    "    list_of_rels_300.append(list_of_rel)"
   ]
  },
  {
   "cell_type": "code",
   "execution_count": 230,
   "id": "ad05628f",
   "metadata": {},
   "outputs": [
    {
     "name": "stdout",
     "output_type": "stream",
     "text": [
      "Avec les utilisateurs ayant noté au moins 10 jeux\n",
      "  moy 46.2\n",
      "  std 6.04648658313239 sur 9680.0\n",
      "  [43, 53, 40, 41, 54]\n",
      "Avec les utilisateurs ayant noté au moins 100 jeux\n",
      "  moy 8.2\n",
      "  std 0.7483314773547882 sur 8265.6\n",
      "  [8, 9, 8, 9, 7]\n",
      "Avec les utilisateurs ayant noté au moins 200 jeux\n",
      "  moy 5.4\n",
      "  std 1.2 sur 7226.4\n",
      "  [4, 6, 4, 7, 6]\n",
      "Avec les utilisateurs ayant noté au moins 300 jeux\n",
      "  moy 5.0\n",
      "  std 0.6324555320336759 sur 6356.6\n",
      "  [4, 5, 6, 5, 5]\n"
     ]
    }
   ],
   "source": [
    "pop_mrrs_10,pop_mrrs_100,pop_mrrs_200,pop_mrrs_300 = [],[],[],[]\n",
    "for i in range(len(list_of_rels_10)):\n",
    "  list_of_rel = list_of_rels_10[i]\n",
    "  pop_mrr = mrr(list_of_rel)\n",
    "  pop_mrrs_10.append(int(round(1/pop_mrr,0)))\n",
    "  \n",
    "  list_of_rel = list_of_rels_100[i]\n",
    "  pop_mrr = mrr(list_of_rel)\n",
    "  pop_mrrs_100.append(int(round(1/pop_mrr,0)))\n",
    "\n",
    "  list_of_rel = list_of_rels_200[i]\n",
    "  pop_mrr = mrr(list_of_rel)\n",
    "  pop_mrrs_200.append(int(round(1/pop_mrr,0)))\n",
    "\n",
    "  list_of_rel = list_of_rels_300[i]\n",
    "  pop_mrr = mrr(list_of_rel)\n",
    "  pop_mrrs_300.append(int(round(1/pop_mrr,0)))\n",
    "\n",
    "# f\"On average, the {int(round(1/pop_mrr,0))}th proposed item is relevant (on {len(existing_items)})\"\n",
    "print(\"Avec les utilisateurs ayant noté au moins 10 jeux\")\n",
    "print(f\"  moy {np.mean(pop_mrrs_10)}\\n  std {np.std(pop_mrrs_10)} sur {np.mean(jeux_existants_10)}\\n  {pop_mrrs_10}\")\n",
    "print(\"Avec les utilisateurs ayant noté au moins 100 jeux\")\n",
    "print(f\"  moy {np.mean(pop_mrrs_100)}\\n  std {np.std(pop_mrrs_100)} sur {np.mean(jeux_existants_100)}\\n  {pop_mrrs_100}\")\n",
    "print(\"Avec les utilisateurs ayant noté au moins 200 jeux\")\n",
    "print(f\"  moy {np.mean(pop_mrrs_200)}\\n  std {np.std(pop_mrrs_200)} sur {np.mean(jeux_existants_200)}\\n  {pop_mrrs_200}\")\n",
    "print(\"Avec les utilisateurs ayant noté au moins 300 jeux\")\n",
    "print(f\"  moy {np.mean(pop_mrrs_300)}\\n  std {np.std(pop_mrrs_300)} sur {np.mean(jeux_existants_300)}\\n  {pop_mrrs_300}\")"
   ]
  },
  {
   "attachments": {},
   "cell_type": "markdown",
   "id": "883448d4",
   "metadata": {},
   "source": [
    "- En éliminant les utilisateurs ayant noter moins de **10** jeux nous avons une mrr de **46.2** en moyenne sur **9690**.\n",
    "\n",
    "- En éliminant les utilisateurs ayant noter moins de **100** jeux nous avons une mrr de **8.2** en moyenne sur **8265.6**. </br>\n",
    "\n",
    "- En éliminant les utilisateurs ayant noter moins de **200** jeux nous avons une mrr de **5.4** en moyenne sur **7226.4**. </br>\n",
    "\n",
    "- En éliminant les utilisateurs ayant noter moins de **300** jeux nous avons une mrr de **5.0** en moyenne sur **6358**. </br>"
   ]
  },
  {
   "attachments": {},
   "cell_type": "markdown",
   "id": "8274483c",
   "metadata": {},
   "source": [
    "### popular recommendation relevance list per user avec note>=7"
   ]
  },
  {
   "cell_type": "code",
   "execution_count": 231,
   "id": "e1ec259e",
   "metadata": {},
   "outputs": [],
   "source": [
    "list_of_rels_10 = []\n",
    "\n",
    "for ip in range(n_splits):\n",
    "    already_seen = already_seen_10[ip]\n",
    "    ground_truth = ground_truth_n7_10[ip]\n",
    "    jeux_populaires = splits_10[ip][2][1]\n",
    "    model = models_10[ip]\n",
    "\n",
    "    list_of_rel = []\n",
    "    for user,will_see in ground_truth.items():\n",
    "        rel_list = []\n",
    "        will_see = set(will_see)\n",
    "        has_seen = set(already_seen[user])\n",
    "        \n",
    "        for movie in jeux_populaires:\n",
    "            if movie in has_seen:         # User has already seen movie -> Can filter prediction\n",
    "                continue\n",
    "            elif movie in will_see:       # User will see, spot on suggestion !         \n",
    "                rel_list.append(1) # To Complete\n",
    "                break\n",
    "            else:                         # No clue.\n",
    "                rel_list.append(0) # To Complete\n",
    "                \n",
    "        if rel_list[-1] == 1:             # when no relevant item exist, no need to take it into account.\n",
    "            list_of_rel.append(rel_list)\n",
    "    list_of_rels_10.append(list_of_rel)"
   ]
  },
  {
   "cell_type": "code",
   "execution_count": 232,
   "id": "98c2b748",
   "metadata": {},
   "outputs": [],
   "source": [
    "list_of_rels_100 = []\n",
    "\n",
    "for ip in range(n_splits):\n",
    "    already_seen = already_seen_100[ip]\n",
    "    ground_truth = ground_truth_n7_100[ip]\n",
    "    jeux_populaires = splits_100[ip][2][1]\n",
    "    model = models_100[ip]\n",
    "\n",
    "    list_of_rel = []\n",
    "    for user,will_see in ground_truth.items():\n",
    "        rel_list = []\n",
    "        will_see = set(will_see)\n",
    "        has_seen = set(already_seen[user])\n",
    "        \n",
    "        for movie in jeux_populaires:\n",
    "            if movie in has_seen:         # User has already seen movie -> Can filter prediction\n",
    "                continue\n",
    "            elif movie in will_see:       # User will see, spot on suggestion !         \n",
    "                rel_list.append(1) # To Complete\n",
    "                break\n",
    "            else:                         # No clue.\n",
    "                rel_list.append(0) # To Complete\n",
    "                \n",
    "        if rel_list[-1] == 1:             # when no relevant item exist, no need to take it into account.\n",
    "            list_of_rel.append(rel_list)\n",
    "    list_of_rels_100.append(list_of_rel)"
   ]
  },
  {
   "cell_type": "code",
   "execution_count": 233,
   "id": "d57e9f42",
   "metadata": {},
   "outputs": [],
   "source": [
    "list_of_rels_200 = []\n",
    "\n",
    "for ip in range(n_splits):\n",
    "    already_seen = already_seen_200[ip]\n",
    "    ground_truth = ground_truth_n7_200[ip]\n",
    "    jeux_populaires = splits_200[ip][2][1]\n",
    "    model = models_200[ip]\n",
    "\n",
    "    list_of_rel = []\n",
    "    for user,will_see in ground_truth.items():\n",
    "        rel_list = []\n",
    "        will_see = set(will_see)\n",
    "        has_seen = set(already_seen[user])\n",
    "        \n",
    "        for movie in jeux_populaires:\n",
    "            if movie in has_seen:         # User has already seen movie -> Can filter prediction\n",
    "                continue\n",
    "            elif movie in will_see:       # User will see, spot on suggestion !         \n",
    "                rel_list.append(1) # To Complete\n",
    "                break\n",
    "            else:                         # No clue.\n",
    "                rel_list.append(0) # To Complete\n",
    "                \n",
    "        if rel_list[-1] == 1:             # when no relevant item exist, no need to take it into account.\n",
    "            list_of_rel.append(rel_list)\n",
    "    list_of_rels_200.append(list_of_rel)"
   ]
  },
  {
   "cell_type": "code",
   "execution_count": 234,
   "id": "a96b3140",
   "metadata": {},
   "outputs": [],
   "source": [
    "list_of_rels_300 = []\n",
    "\n",
    "for ip in range(n_splits):\n",
    "    already_seen = already_seen_300[ip]\n",
    "    ground_truth = ground_truth_n7_300[ip]\n",
    "    jeux_populaires = splits_300[ip][2][1]\n",
    "    model = models_300[ip]\n",
    "\n",
    "    list_of_rel = []\n",
    "    for user,will_see in ground_truth.items():\n",
    "        rel_list = []\n",
    "        will_see = set(will_see)\n",
    "        has_seen = set(already_seen[user])\n",
    "        \n",
    "        for movie in jeux_populaires:\n",
    "            if movie in has_seen:         # User has already seen movie -> Can filter prediction\n",
    "                continue\n",
    "            elif movie in will_see:       # User will see, spot on suggestion !         \n",
    "                rel_list.append(1) # To Complete\n",
    "                break\n",
    "            else:                         # No clue.\n",
    "                rel_list.append(0) # To Complete\n",
    "                \n",
    "        if rel_list[-1] == 1:             # when no relevant item exist, no need to take it into account.\n",
    "            list_of_rel.append(rel_list)\n",
    "    list_of_rels_300.append(list_of_rel)"
   ]
  },
  {
   "cell_type": "code",
   "execution_count": 235,
   "id": "709c3ceb",
   "metadata": {},
   "outputs": [
    {
     "name": "stdout",
     "output_type": "stream",
     "text": [
      "Avec les utilisateurs ayant noté au moins 10 jeux\n",
      "  moy 33.2\n",
      "  std 2.481934729198171 sur 9680.0\n",
      "  [34, 36, 32, 29, 35]\n",
      "Avec les utilisateurs ayant noté au moins 100 jeux\n",
      "  moy 4.8\n",
      "  std 0.7483314773547882 sur 8265.6\n",
      "  [4, 5, 5, 6, 4]\n",
      "Avec les utilisateurs ayant noté au moins 200 jeux\n",
      "  moy 3.0\n",
      "  std 0.0 sur 7226.4\n",
      "  [3, 3, 3, 3, 3]\n",
      "Avec les utilisateurs ayant noté au moins 300 jeux\n",
      "  moy 2.2\n",
      "  std 0.39999999999999997 sur 6356.6\n",
      "  [2, 2, 3, 2, 2]\n"
     ]
    }
   ],
   "source": [
    "pop_mrrs_10,pop_mrrs_100,pop_mrrs_200,pop_mrrs_300 = [],[],[],[]\n",
    "for i in range(len(list_of_rels_10)):\n",
    "  list_of_rel = list_of_rels_10[i]\n",
    "  pop_mrr = mrr(list_of_rel)\n",
    "  pop_mrrs_10.append(int(round(1/pop_mrr,0)))\n",
    "  \n",
    "  list_of_rel = list_of_rels_100[i]\n",
    "  pop_mrr = mrr(list_of_rel)\n",
    "  pop_mrrs_100.append(int(round(1/pop_mrr,0)))\n",
    "\n",
    "  list_of_rel = list_of_rels_200[i]\n",
    "  pop_mrr = mrr(list_of_rel)\n",
    "  pop_mrrs_200.append(int(round(1/pop_mrr,0)))\n",
    "\n",
    "  list_of_rel = list_of_rels_300[i]\n",
    "  pop_mrr = mrr(list_of_rel)\n",
    "  pop_mrrs_300.append(int(round(1/pop_mrr,0)))\n",
    "\n",
    "# f\"On average, the {int(round(1/pop_mrr,0))}th proposed item is relevant (on {len(existing_items)})\"\n",
    "print(\"Avec les utilisateurs ayant noté au moins 10 jeux\")\n",
    "print(f\"  moy {np.mean(pop_mrrs_10)}\\n  std {np.std(pop_mrrs_10)} sur {np.mean(jeux_existants_10)}\\n  {pop_mrrs_10}\")\n",
    "print(\"Avec les utilisateurs ayant noté au moins 100 jeux\")\n",
    "print(f\"  moy {np.mean(pop_mrrs_100)}\\n  std {np.std(pop_mrrs_100)} sur {np.mean(jeux_existants_100)}\\n  {pop_mrrs_100}\")\n",
    "print(\"Avec les utilisateurs ayant noté au moins 200 jeux\")\n",
    "print(f\"  moy {np.mean(pop_mrrs_200)}\\n  std {np.std(pop_mrrs_200)} sur {np.mean(jeux_existants_200)}\\n  {pop_mrrs_200}\")\n",
    "print(\"Avec les utilisateurs ayant noté au moins 300 jeux\")\n",
    "print(f\"  moy {np.mean(pop_mrrs_300)}\\n  std {np.std(pop_mrrs_300)} sur {np.mean(jeux_existants_300)}\\n  {pop_mrrs_300}\")"
   ]
  },
  {
   "attachments": {},
   "cell_type": "markdown",
   "id": "cbf1b127",
   "metadata": {},
   "source": [
    "En considérant que si un utilisateur met une note >= 7 il aime le film les performances de la recommendations sont nettement améliorées, pas beaucoup mais c'est quand même significatif.\n",
    "\n",
    "- pour >= 10 on a 46.2 vs 33.2\n",
    "- pour >= 100 on a 8.2 vs 4.8\n",
    "- pour >= 200 on a 5.4 vs 3.0\n",
    "- pour >= 300 on a 5.0 vs 2.2"
   ]
  },
  {
   "cell_type": "markdown",
   "id": "5926ada1",
   "metadata": {},
   "source": [
    "# Implicit Collaborative Filtering "
   ]
  },
  {
   "cell_type": "markdown",
   "id": "8a8319bf",
   "metadata": {},
   "source": [
    "## Interaction train/test dataset within the framework"
   ]
  },
  {
   "cell_type": "code",
   "execution_count": 282,
   "id": "818b9f09",
   "metadata": {},
   "outputs": [],
   "source": [
    "from lightfm.data import Dataset\n",
    "\n",
    "# (a) Create a dataset\n",
    "dataset = Dataset()\n",
    "\n",
    "\n",
    "# (b) Create an internal mapping for users and items (We need to consider train + test)\n",
    "dataset.fit((x for x in df_avis_k[\"author\"]),\n",
    "            (x for x in df_avis_k[\"title\"]))\n",
    "\n",
    "# (c) Create the interaction matrices\n",
    "(train_interactions, weights) = dataset.build_interactions(\n",
    "    ((x.author, x.title) for x in X_train.itertuples() if x.note >= 10) # We only consider 5's as interactions\n",
    ") \n",
    "(test_interactions, weights) = dataset.build_interactions(\n",
    "    ((x.author, x.title) for x in X_test.itertuples() if x.note >= 10)  # We only consider 5's as interactions\n",
    ") "
   ]
  },
  {
   "cell_type": "code",
   "execution_count": 283,
   "id": "76b649a2",
   "metadata": {},
   "outputs": [
    {
     "name": "stdout",
     "output_type": "stream",
     "text": [
      "train interactions: (61, 6941)\n",
      "test interactions : (61, 6941)\n"
     ]
    }
   ],
   "source": [
    "print(f\"train interactions: {train_interactions.shape}\")\n",
    "print(f\"test interactions : {test_interactions.shape}\")"
   ]
  },
  {
   "cell_type": "code",
   "execution_count": 284,
   "id": "992e2338",
   "metadata": {},
   "outputs": [
    {
     "name": "stdout",
     "output_type": "stream",
     "text": [
      "train interactions: 3472\n",
      "train interactions: 798\n"
     ]
    }
   ],
   "source": [
    "print(f\"train interactions: {sum(X_train['note']>=10)}\")\n",
    "print(f\"train interactions: {sum(X_test['note']>=10)}\")\n"
   ]
  },
  {
   "cell_type": "markdown",
   "id": "e7866ab2",
   "metadata": {},
   "source": [
    "## Train the lightFM model"
   ]
  },
  {
   "cell_type": "code",
   "execution_count": 285,
   "id": "bf3d687f",
   "metadata": {},
   "outputs": [
    {
     "data": {
      "text/plain": [
       "<lightfm.lightfm.LightFM at 0x14f50c2e0>"
      ]
     },
     "execution_count": 285,
     "metadata": {},
     "output_type": "execute_result"
    }
   ],
   "source": [
    "from lightfm import LightFM\n",
    "\n",
    "model = LightFM(loss='bpr',random_state=50000)\n",
    "model.fit(train_interactions)"
   ]
  },
  {
   "cell_type": "code",
   "execution_count": 286,
   "id": "9a130ee5",
   "metadata": {},
   "outputs": [],
   "source": [
    "from lightfm.evaluation import reciprocal_rank\n",
    "bpr_mrr = reciprocal_rank(model, test_interactions, train_interactions).mean()"
   ]
  },
  {
   "cell_type": "code",
   "execution_count": 287,
   "id": "eafe5f9b",
   "metadata": {},
   "outputs": [
    {
     "data": {
      "text/plain": [
       "'On average, the 10th proposed item is relevant (on 6358)'"
      ]
     },
     "execution_count": 287,
     "metadata": {},
     "output_type": "execute_result"
    }
   ],
   "source": [
    "f\"On average, the {int(round(1/bpr_mrr,0))}th proposed item is relevant (on {len(existing_items)})\""
   ]
  },
  {
   "attachments": {},
   "cell_type": "markdown",
   "id": "6fbbeec6",
   "metadata": {},
   "source": [
    "- En éliminant les utilisateurs ayant noter moins de **300** jeux nous avons une mrr de **10** sur **6358**. </br>\n",
    "\n",
    "- En éliminant les utilisateurs ayant noter moins de **100** jeux nous avons une mrr de **10** sur **8258**. </br>\n",
    "\n",
    "- En éliminant les utilisateurs ayant noter moins de **10** jeux nous avons une mrr de **53** sur **9690**."
   ]
  },
  {
   "cell_type": "markdown",
   "id": "1ca3c946",
   "metadata": {},
   "source": [
    "## We consider EVERY rating as one interaction"
   ]
  },
  {
   "cell_type": "code",
   "execution_count": 288,
   "id": "6140de65",
   "metadata": {},
   "outputs": [],
   "source": [
    "# Create the interaction matrix\n",
    "(train_interactions_all, weights) = dataset.build_interactions(\n",
    "    ((x.author, x.title) for x in X_train.itertuples()) # We only consider 5's as interactions\n",
    ") \n",
    "(test_interactions_all, weights) = dataset.build_interactions(\n",
    "    ((x.author, x.title) for x in X_test.itertuples())  # We only consider 5's as interactions\n",
    ") \n",
    "\n",
    "from lightfm import LightFM\n",
    "\n",
    "\n",
    "model_bpr_all = LightFM(loss='bpr',random_state=50000)\n",
    "model_bpr_all.fit(train_interactions_all)\n",
    "\n",
    "bpr_mrr_all = reciprocal_rank(model_bpr_all, test_interactions_all, train_interactions_all).mean()"
   ]
  },
  {
   "cell_type": "code",
   "execution_count": 289,
   "id": "10b0362c",
   "metadata": {},
   "outputs": [
    {
     "data": {
      "text/plain": [
       "'On average, the 3th proposed item is relevant (on 6358)'"
      ]
     },
     "execution_count": 289,
     "metadata": {},
     "output_type": "execute_result"
    }
   ],
   "source": [
    "f\"On average, the {int(round(1/bpr_mrr_all,0))}th proposed item is relevant (on {len(existing_items)})\"\n",
    "\n",
    "# 'On average, the 34th proposed item is relevant (on 9819)'"
   ]
  },
  {
   "attachments": {},
   "cell_type": "markdown",
   "id": "989a9aa2",
   "metadata": {},
   "source": [
    "En éliminant les utilisateurs ayant noter moins de **300** jeux nous avons une mrr de **3** sur **6358**. </br>\n",
    "\n",
    "En éliminant les utilisateurs ayant noter moins de **100** jeux nous avons une mrr de **3** sur **8258**. </br>\n",
    "\n",
    "En éliminant les utilisateurs ayant noter moins de **10** jeux nous avons une mrr de **28** sur **9690**."
   ]
  },
  {
   "attachments": {},
   "cell_type": "markdown",
   "id": "d896bb46",
   "metadata": {},
   "source": [
    "## Visualisation avec TSNE"
   ]
  },
  {
   "cell_type": "code",
   "execution_count": 290,
   "id": "c5006751",
   "metadata": {},
   "outputs": [],
   "source": [
    "matrice = df_avis.pivot_table(index='author',columns='title',values='note')\n",
    "matrice = matrice.fillna(0).values"
   ]
  },
  {
   "cell_type": "code",
   "execution_count": 291,
   "id": "25fecf8b",
   "metadata": {},
   "outputs": [],
   "source": [
    "from sklearn.manifold import TSNE\n",
    "from sklearn.decomposition import TruncatedSVD\n",
    "\n",
    "svd = TruncatedSVD(n_components=2)\n",
    "svd_transform = svd.fit_transform(matrice)\n",
    "\n",
    "tsne = TSNE(n_components=2,perplexity=30.,early_exaggeration=12.,learning_rate=200.,n_iter=1000,random_state=0)\n",
    "tsne_transform = tsne.fit_transform(svd_transform)"
   ]
  },
  {
   "cell_type": "code",
   "execution_count": 292,
   "id": "f697f1c9",
   "metadata": {},
   "outputs": [
    {
     "data": {
      "text/plain": [
       "<matplotlib.colorbar.Colorbar at 0x14d8785b0>"
      ]
     },
     "execution_count": 292,
     "metadata": {},
     "output_type": "execute_result"
    },
    {
     "data": {
      "image/png": "[encoded data removed]",
      "text/plain": [
       "<Figure size 1080x720 with 2 Axes>"
      ]
     },
     "metadata": {},
     "output_type": "display_data"
    }
   ],
   "source": [
    "NN2cluster = np.argmax(np.abs(svd_transform ), axis=0)\n",
    "import seaborn as sns\n",
    "import matplotlib.cm as cm\n",
    "cmap = cm.tab20\n",
    "cmap = cm.get_cmap('hsv', 20) \n",
    "cmap = cm.get_cmap('jet', 20)\n",
    "#cmap = cm.tab20\n",
    "\n",
    "colors = sns.color_palette(\"Set2\", n_colors=len(tsne_transform))\n",
    "\n",
    "plt.figure(figsize=(15,10))\n",
    "plt.scatter(tsne_transform [:,0],tsne_transform [:,1],c=colors, cmap=cmap, s=10)\n",
    "plt.scatter(tsne_transform [NN2cluster[:],0],tsne_transform [NN2cluster[:],1], c='black', s=100)\n",
    "#plt.scatter(tsne_mat[NN2cluster2[:],0],tsne_mat[NN2cluster2[:],1], c='red', s=100)\n",
    "plt.colorbar(ticks=range(20))"
   ]
  },
  {
   "cell_type": "code",
   "execution_count": 293,
   "id": "7a5eb19e",
   "metadata": {},
   "outputs": [
    {
     "name": "stderr",
     "output_type": "stream",
     "text": [
      "/usr/local/lib/python3.9/site-packages/sklearn/cluster/_kmeans.py:870: FutureWarning: The default value of `n_init` will change from 10 to 'auto' in 1.4. Set the value of `n_init` explicitly to suppress the warning\n",
      "  warnings.warn(\n"
     ]
    },
    {
     "name": "stdout",
     "output_type": "stream",
     "text": [
      "author              --- JD ---  BDPHILOU  Belboudin  Biff  Brissac  Chabousse  \\\n",
      "title                                                                           \n",
      "&cetera                    0.0       0.0        0.0   0.0      0.0        0.0   \n",
      "011                        0.0       0.0        0.0   0.0      0.0        0.0   \n",
      "1, 2 Truie !               0.0       0.0        0.0   0.0      0.0        0.0   \n",
      "10' to kill                0.0       0.0        0.0   0.0      0.0        0.0   \n",
      "1001 Karawane              0.0       0.0        0.0   0.0      0.0        0.0   \n",
      "...                        ...       ...        ...   ...      ...        ...   \n",
      "Échecs                     0.0       8.0        0.0  10.0      0.0        0.0   \n",
      "Émoticon                   0.0       0.0        0.0   0.0      0.0        0.0   \n",
      "Équibil                    0.0       0.0        0.0   0.0      0.0        0.0   \n",
      "Équilibre instable         0.0       0.0        0.0   0.0      0.0        0.0   \n",
      "ごきぶりポーカー                   0.0       0.0        0.0   0.0      0.0        0.0   \n",
      "\n",
      "author              Debievernet  DidOo  Djez  Docteur Mops  ...  papoudark88  \\\n",
      "title                                                       ...                \n",
      "&cetera                     0.0    0.0   0.0           0.0  ...          0.0   \n",
      "011                         0.0    0.0   0.0           0.0  ...          0.0   \n",
      "1, 2 Truie !                0.0    0.0   0.0           0.0  ...          0.0   \n",
      "10' to kill                 0.0    0.0   0.0           0.0  ...          0.0   \n",
      "1001 Karawane               0.0    0.0   0.0           0.0  ...          0.0   \n",
      "...                         ...    ...   ...           ...  ...          ...   \n",
      "Échecs                      0.0    0.0   0.0           0.0  ...         10.0   \n",
      "Émoticon                    0.0    0.0   0.0           0.0  ...          0.0   \n",
      "Équibil                     0.0    0.0   0.0           0.0  ...          0.0   \n",
      "Équilibre instable          0.0    0.0   0.0           0.0  ...          0.0   \n",
      "ごきぶりポーカー                    0.0    0.0   0.0          10.0  ...          0.0   \n",
      "\n",
      "author              pepetteuh  pierre2.0  prems  redeagle  samuel2277  \\\n",
      "title                                                                   \n",
      "&cetera                   0.0        0.0    0.0       0.0         0.0   \n",
      "011                      10.0        0.0    0.0       0.0         0.0   \n",
      "1, 2 Truie !              0.0        0.0    0.0       0.0         8.0   \n",
      "10' to kill               0.0        0.0    0.0       0.0         0.0   \n",
      "1001 Karawane             0.0        0.0    0.0       0.0         0.0   \n",
      "...                       ...        ...    ...       ...         ...   \n",
      "Échecs                    8.0        0.0    0.0       0.0         0.0   \n",
      "Émoticon                  0.0        0.0   10.0       0.0         0.0   \n",
      "Équibil                   0.0        0.0    0.0       0.0         0.0   \n",
      "Équilibre instable        0.0        0.0    0.0       0.0         0.0   \n",
      "ごきぶりポーカー                  8.0        0.0    0.0       0.0         0.0   \n",
      "\n",
      "author              serraangel  yahndrev  ybkam  cluster  \n",
      "title                                                     \n",
      "&cetera                    0.0       0.0    0.0        1  \n",
      "011                        0.0       0.0    0.0        1  \n",
      "1, 2 Truie !               0.0       0.0    0.0        1  \n",
      "10' to kill                0.0       0.0    0.0        1  \n",
      "1001 Karawane              0.0       0.0    0.0        1  \n",
      "...                        ...       ...    ...      ...  \n",
      "Échecs                     0.0       0.0    0.0        2  \n",
      "Émoticon                   0.0       0.0    0.0        1  \n",
      "Équibil                    0.0       8.0    0.0        1  \n",
      "Équilibre instable         0.0       0.0    0.0        1  \n",
      "ごきぶりポーカー                   0.0      10.0    0.0        1  \n",
      "\n",
      "[4398 rows x 62 columns]\n"
     ]
    },
    {
     "ename": "KeyError",
     "evalue": "'author'",
     "output_type": "error",
     "traceback": [
      "\u001b[0;31m---------------------------------------------------------------------------\u001b[0m",
      "\u001b[0;31mKeyError\u001b[0m                                  Traceback (most recent call last)",
      "\u001b[0;32m/usr/local/lib/python3.9/site-packages/pandas/core/indexes/base.py\u001b[0m in \u001b[0;36mget_loc\u001b[0;34m(self, key, method, tolerance)\u001b[0m\n\u001b[1;32m   3801\u001b[0m             \u001b[0;32mtry\u001b[0m\u001b[0;34m:\u001b[0m\u001b[0;34m\u001b[0m\u001b[0;34m\u001b[0m\u001b[0m\n\u001b[0;32m-> 3802\u001b[0;31m                 \u001b[0;32mreturn\u001b[0m \u001b[0mself\u001b[0m\u001b[0;34m.\u001b[0m\u001b[0m_engine\u001b[0m\u001b[0;34m.\u001b[0m\u001b[0mget_loc\u001b[0m\u001b[0;34m(\u001b[0m\u001b[0mcasted_key\u001b[0m\u001b[0;34m)\u001b[0m\u001b[0;34m\u001b[0m\u001b[0;34m\u001b[0m\u001b[0m\n\u001b[0m\u001b[1;32m   3803\u001b[0m             \u001b[0;32mexcept\u001b[0m \u001b[0mKeyError\u001b[0m \u001b[0;32mas\u001b[0m \u001b[0merr\u001b[0m\u001b[0;34m:\u001b[0m\u001b[0;34m\u001b[0m\u001b[0;34m\u001b[0m\u001b[0m\n",
      "\u001b[0;32m/usr/local/lib/python3.9/site-packages/pandas/_libs/index.pyx\u001b[0m in \u001b[0;36mpandas._libs.index.IndexEngine.get_loc\u001b[0;34m()\u001b[0m\n",
      "\u001b[0;32m/usr/local/lib/python3.9/site-packages/pandas/_libs/index.pyx\u001b[0m in \u001b[0;36mpandas._libs.index.IndexEngine.get_loc\u001b[0;34m()\u001b[0m\n",
      "\u001b[0;32mpandas/_libs/hashtable_class_helper.pxi\u001b[0m in \u001b[0;36mpandas._libs.hashtable.PyObjectHashTable.get_item\u001b[0;34m()\u001b[0m\n",
      "\u001b[0;32mpandas/_libs/hashtable_class_helper.pxi\u001b[0m in \u001b[0;36mpandas._libs.hashtable.PyObjectHashTable.get_item\u001b[0;34m()\u001b[0m\n",
      "\u001b[0;31mKeyError\u001b[0m: 'author'",
      "\nThe above exception was the direct cause of the following exception:\n",
      "\u001b[0;31mKeyError\u001b[0m                                  Traceback (most recent call last)",
      "\u001b[0;32m/var/folders/x7/bmqxr1zd3lxd_kcxxw9physr0000gn/T/ipykernel_43444/1459013879.py\u001b[0m in \u001b[0;36m<module>\u001b[0;34m\u001b[0m\n\u001b[1;32m     26\u001b[0m \u001b[0mprint\u001b[0m\u001b[0;34m(\u001b[0m\u001b[0mX\u001b[0m\u001b[0;34m)\u001b[0m\u001b[0;34m\u001b[0m\u001b[0;34m\u001b[0m\u001b[0m\n\u001b[1;32m     27\u001b[0m \u001b[0;34m\u001b[0m\u001b[0m\n\u001b[0;32m---> 28\u001b[0;31m \u001b[0mplt\u001b[0m\u001b[0;34m.\u001b[0m\u001b[0mscatter\u001b[0m\u001b[0;34m(\u001b[0m\u001b[0mX\u001b[0m\u001b[0;34m[\u001b[0m\u001b[0;34m'author'\u001b[0m\u001b[0;34m]\u001b[0m\u001b[0;34m,\u001b[0m \u001b[0mX\u001b[0m\u001b[0;34m[\u001b[0m\u001b[0;34m'note'\u001b[0m\u001b[0;34m]\u001b[0m\u001b[0;34m,\u001b[0m \u001b[0mc\u001b[0m\u001b[0;34m=\u001b[0m\u001b[0mX\u001b[0m\u001b[0;34m[\u001b[0m\u001b[0;34m'cluster'\u001b[0m\u001b[0;34m]\u001b[0m\u001b[0;34m)\u001b[0m\u001b[0;34m\u001b[0m\u001b[0;34m\u001b[0m\u001b[0m\n\u001b[0m\u001b[1;32m     29\u001b[0m \u001b[0mplt\u001b[0m\u001b[0;34m.\u001b[0m\u001b[0mxlabel\u001b[0m\u001b[0;34m(\u001b[0m\u001b[0;34m'Utilisateurs'\u001b[0m\u001b[0;34m)\u001b[0m\u001b[0;34m\u001b[0m\u001b[0;34m\u001b[0m\u001b[0m\n\u001b[1;32m     30\u001b[0m \u001b[0mplt\u001b[0m\u001b[0;34m.\u001b[0m\u001b[0mylabel\u001b[0m\u001b[0;34m(\u001b[0m\u001b[0;34m'Notes'\u001b[0m\u001b[0;34m)\u001b[0m\u001b[0;34m\u001b[0m\u001b[0;34m\u001b[0m\u001b[0m\n",
      "\u001b[0;32m/usr/local/lib/python3.9/site-packages/pandas/core/frame.py\u001b[0m in \u001b[0;36m__getitem__\u001b[0;34m(self, key)\u001b[0m\n\u001b[1;32m   3805\u001b[0m             \u001b[0;32mif\u001b[0m \u001b[0mself\u001b[0m\u001b[0;34m.\u001b[0m\u001b[0mcolumns\u001b[0m\u001b[0;34m.\u001b[0m\u001b[0mnlevels\u001b[0m \u001b[0;34m>\u001b[0m \u001b[0;36m1\u001b[0m\u001b[0;34m:\u001b[0m\u001b[0;34m\u001b[0m\u001b[0;34m\u001b[0m\u001b[0m\n\u001b[1;32m   3806\u001b[0m                 \u001b[0;32mreturn\u001b[0m \u001b[0mself\u001b[0m\u001b[0;34m.\u001b[0m\u001b[0m_getitem_multilevel\u001b[0m\u001b[0;34m(\u001b[0m\u001b[0mkey\u001b[0m\u001b[0;34m)\u001b[0m\u001b[0;34m\u001b[0m\u001b[0;34m\u001b[0m\u001b[0m\n\u001b[0;32m-> 3807\u001b[0;31m             \u001b[0mindexer\u001b[0m \u001b[0;34m=\u001b[0m \u001b[0mself\u001b[0m\u001b[0;34m.\u001b[0m\u001b[0mcolumns\u001b[0m\u001b[0;34m.\u001b[0m\u001b[0mget_loc\u001b[0m\u001b[0;34m(\u001b[0m\u001b[0mkey\u001b[0m\u001b[0;34m)\u001b[0m\u001b[0;34m\u001b[0m\u001b[0;34m\u001b[0m\u001b[0m\n\u001b[0m\u001b[1;32m   3808\u001b[0m             \u001b[0;32mif\u001b[0m \u001b[0mis_integer\u001b[0m\u001b[0;34m(\u001b[0m\u001b[0mindexer\u001b[0m\u001b[0;34m)\u001b[0m\u001b[0;34m:\u001b[0m\u001b[0;34m\u001b[0m\u001b[0;34m\u001b[0m\u001b[0m\n\u001b[1;32m   3809\u001b[0m                 \u001b[0mindexer\u001b[0m \u001b[0;34m=\u001b[0m \u001b[0;34m[\u001b[0m\u001b[0mindexer\u001b[0m\u001b[0;34m]\u001b[0m\u001b[0;34m\u001b[0m\u001b[0;34m\u001b[0m\u001b[0m\n",
      "\u001b[0;32m/usr/local/lib/python3.9/site-packages/pandas/core/indexes/base.py\u001b[0m in \u001b[0;36mget_loc\u001b[0;34m(self, key, method, tolerance)\u001b[0m\n\u001b[1;32m   3802\u001b[0m                 \u001b[0;32mreturn\u001b[0m \u001b[0mself\u001b[0m\u001b[0;34m.\u001b[0m\u001b[0m_engine\u001b[0m\u001b[0;34m.\u001b[0m\u001b[0mget_loc\u001b[0m\u001b[0;34m(\u001b[0m\u001b[0mcasted_key\u001b[0m\u001b[0;34m)\u001b[0m\u001b[0;34m\u001b[0m\u001b[0;34m\u001b[0m\u001b[0m\n\u001b[1;32m   3803\u001b[0m             \u001b[0;32mexcept\u001b[0m \u001b[0mKeyError\u001b[0m \u001b[0;32mas\u001b[0m \u001b[0merr\u001b[0m\u001b[0;34m:\u001b[0m\u001b[0;34m\u001b[0m\u001b[0;34m\u001b[0m\u001b[0m\n\u001b[0;32m-> 3804\u001b[0;31m                 \u001b[0;32mraise\u001b[0m \u001b[0mKeyError\u001b[0m\u001b[0;34m(\u001b[0m\u001b[0mkey\u001b[0m\u001b[0;34m)\u001b[0m \u001b[0;32mfrom\u001b[0m \u001b[0merr\u001b[0m\u001b[0;34m\u001b[0m\u001b[0;34m\u001b[0m\u001b[0m\n\u001b[0m\u001b[1;32m   3805\u001b[0m             \u001b[0;32mexcept\u001b[0m \u001b[0mTypeError\u001b[0m\u001b[0;34m:\u001b[0m\u001b[0;34m\u001b[0m\u001b[0;34m\u001b[0m\u001b[0m\n\u001b[1;32m   3806\u001b[0m                 \u001b[0;31m# If we have a listlike key, _check_indexing_error will raise\u001b[0m\u001b[0;34m\u001b[0m\u001b[0;34m\u001b[0m\u001b[0m\n",
      "\u001b[0;31mKeyError\u001b[0m: 'author'"
     ]
    }
   ],
   "source": [
    "import pandas as pd\n",
    "from sklearn.cluster import KMeans\n",
    "from sklearn.preprocessing import StandardScaler\n",
    "\n",
    "# chargement des données\n",
    "df = df_avis_un\n",
    "\n",
    "# extraction des colonnes d'intérêt\n",
    "df_good = df[df['note'] >= 8] # on filtre les notes >= 8\n",
    "X = df_good.pivot(index='title', columns='author', values='note').fillna(0)\n",
    "\n",
    "# normalisation des données\n",
    "scaler = StandardScaler()\n",
    "X_scaled = scaler.fit_transform(X)\n",
    "\n",
    "# définition du nombre de clusters\n",
    "kmeans = KMeans(n_clusters=3)\n",
    "\n",
    "# exécution de l'algorithme de clustering\n",
    "kmeans.fit(X_scaled)\n",
    "\n",
    "# ajout des labels de cluster aux titres\n",
    "X['cluster'] = kmeans.labels_\n",
    "\n",
    "# affichage des résultats\n",
    "print(X)\n",
    "\n",
    "plt.scatter(X['author'], X['note'], c=X['cluster'])\n",
    "plt.xlabel('Utilisateurs')\n",
    "plt.ylabel('Notes')\n",
    "plt.show()\n",
    "\n"
   ]
  },
  {
   "cell_type": "code",
   "execution_count": null,
   "id": "d062e0e6",
   "metadata": {},
   "outputs": [],
   "source": []
  }
 ],
 "metadata": {
  "kernelspec": {
   "display_name": "Python 3 (ipykernel)",
   "language": "python",
   "name": "python3"
  },
  "language_info": {
   "codemirror_mode": {
    "name": "ipython",
    "version": 3
   },
   "file_extension": ".py",
   "mimetype": "text/x-python",
   "name": "python",
   "nbconvert_exporter": "python",
   "pygments_lexer": "ipython3",
   "version": "3.9.16"
  }
 },
 "nbformat": 4,
 "nbformat_minor": 5
}

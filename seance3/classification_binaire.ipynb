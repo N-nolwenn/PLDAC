{
 "cells": [
  {
   "cell_type": "code",
   "execution_count": 1,
   "id": "0a49a357",
   "metadata": {},
   "outputs": [],
   "source": [
    "import matplotlib.pyplot as plt\n",
    "import nltk\n",
    "import numpy as np\n",
    "import pandas as pd\n",
    "import sklearn\n",
    "import warnings\n",
    "import re\n",
    "import string\n",
    "\n",
    "from pymongo  import MongoClient\n",
    "from collections import Counter\n",
    "\n",
    "from sklearn.naive_bayes import MultinomialNB\n",
    "from sklearn.linear_model import LogisticRegression\n",
    "from sklearn.svm import LinearSVC\n",
    "from sklearn.linear_model import LinearRegression\n",
    "from sklearn.metrics import accuracy_score\n",
    "\n",
    "from imblearn.under_sampling import RandomUnderSampler\n",
    "\n",
    "from nltk.corpus import stopwords\n",
    "from nltk.tokenize import word_tokenize\n",
    "\n",
    "from sklearn import (linear_model, \n",
    "                     metrics,\n",
    "                     preprocessing, \n",
    "                     model_selection, \n",
    "                     pipeline,\n",
    "                    neural_network,)\n",
    "from sklearn.feature_extraction.text import CountVectorizer, TfidfVectorizer\n",
    "\n",
    "from xgboost import XGBClassifier\n",
    "\n",
    "from nltk.stem.snowball import FrenchStemmer\n"
   ]
  },
  {
   "cell_type": "code",
   "execution_count": 2,
   "id": "93378a72",
   "metadata": {},
   "outputs": [],
   "source": [
    "warnings.simplefilter(\"ignore\")"
   ]
  },
  {
   "cell_type": "markdown",
   "id": "7880d600",
   "metadata": {},
   "source": [
    "## Connexion à la base de données MongoDB"
   ]
  },
  {
   "cell_type": "code",
   "execution_count": 3,
   "id": "ee3de98b",
   "metadata": {},
   "outputs": [],
   "source": [
    "client = MongoClient(host=\"localhost\", port=27017)\n",
    "db = client[\"PLDAC\"]\n",
    "avis = db[\"avis\"]\n",
    "df_avis = pd.DataFrame(list(avis.find()))"
   ]
  },
  {
   "cell_type": "code",
   "execution_count": 4,
   "id": "1f54f834",
   "metadata": {},
   "outputs": [],
   "source": [
    "df_avis.dropna(subset=['comment'], inplace=True)"
   ]
  },
  {
   "cell_type": "code",
   "execution_count": 5,
   "id": "f96933fd",
   "metadata": {},
   "outputs": [],
   "source": [
    "comments = df_avis['comment'].astype(str)\n",
    "notes = df_avis['note'].round()"
   ]
  },
  {
   "cell_type": "markdown",
   "id": "afa7a9fc",
   "metadata": {},
   "source": [
    "## Prétraitements"
   ]
  },
  {
   "cell_type": "code",
   "execution_count": 6,
   "id": "d1f31608",
   "metadata": {},
   "outputs": [],
   "source": [
    "def delete_digit(doc):\n",
    "    return re.sub('[0-9]+', '', doc)"
   ]
  },
  {
   "cell_type": "code",
   "execution_count": 7,
   "id": "8860afee",
   "metadata": {},
   "outputs": [],
   "source": [
    "def delete_ponctuation(doc):\n",
    "    punc = string.punctuation \n",
    "    punc += '\\n\\r\\t'\n",
    "    return doc.translate(str.maketrans(punc, ' ' * len(punc)))"
   ]
  },
  {
   "cell_type": "code",
   "execution_count": 8,
   "id": "12879fce",
   "metadata": {},
   "outputs": [],
   "source": [
    "def stem(doc):\n",
    "    stemmer = FrenchStemmer()\n",
    "    tokens = nltk.word_tokenize(doc)\n",
    "    stemmed_tokens = [stemmer.stem(token) for token in tokens]\n",
    "    stemmed_text = \" \".join(stemmed_tokens)\n",
    "    return stemmed_text"
   ]
  },
  {
   "cell_type": "code",
   "execution_count": 9,
   "id": "9e6f4487",
   "metadata": {},
   "outputs": [],
   "source": [
    "comments = comments.str.lower()"
   ]
  },
  {
   "cell_type": "code",
   "execution_count": 10,
   "id": "41f98b76",
   "metadata": {},
   "outputs": [],
   "source": [
    "comments = comments.map(delete_digit)"
   ]
  },
  {
   "cell_type": "code",
   "execution_count": 11,
   "id": "b56982ce",
   "metadata": {},
   "outputs": [],
   "source": [
    "comments = comments.map(delete_ponctuation)"
   ]
  },
  {
   "cell_type": "code",
   "execution_count": 12,
   "id": "ef0e90bf",
   "metadata": {},
   "outputs": [
    {
     "data": {
      "text/plain": [
       "0         lorsque le jeu est jeu  bon  réflexif  joli po...\n",
       "1         comment continuer après un mega hit   simpleme...\n",
       "2         vin d jeu  avec mariposas  elizabeth hargrave ...\n",
       "4         très joli bijou que ce jeu là   le matériel  l...\n",
       "5         mariposas est plutôt beau avec un grand platea...\n",
       "                                ...                        \n",
       "246517    je me situe un peu  je suis un grand joueur de...\n",
       "246518    jeu ne présentant aucune interactivité entre l...\n",
       "246519    twilight revient à ce qu ils savent faire de m...\n",
       "246520    j ai eu l occasion de tester ce jeu en deux oc...\n",
       "246521    cosmic wimpout est né dans les années  sur les...\n",
       "Name: comment, Length: 201089, dtype: object"
      ]
     },
     "execution_count": 12,
     "metadata": {},
     "output_type": "execute_result"
    }
   ],
   "source": [
    "comments"
   ]
  },
  {
   "cell_type": "markdown",
   "id": "744ec08e",
   "metadata": {},
   "source": [
    "### Vocabulaire"
   ]
  },
  {
   "cell_type": "code",
   "execution_count": 13,
   "id": "a5f38d12",
   "metadata": {},
   "outputs": [
    {
     "name": "stdout",
     "output_type": "stream",
     "text": [
      "Taille initiale du vocabulaire : 136566\n"
     ]
    }
   ],
   "source": [
    "vectorizer = CountVectorizer()\n",
    "X = vectorizer.fit_transform(comments)\n",
    "\n",
    "print('Taille initiale du vocabulaire :', len(vectorizer.vocabulary_))"
   ]
  },
  {
   "cell_type": "code",
   "execution_count": 14,
   "id": "b4c2f739",
   "metadata": {
    "scrolled": true
   },
   "outputs": [
    {
     "data": {
      "text/plain": [
       "['de', 'et', 'le', 'un', 'les', 'est', 'jeu', 'à', 'la', 'des']"
      ]
     },
     "execution_count": 14,
     "metadata": {},
     "output_type": "execute_result"
    }
   ],
   "source": [
    "## Liste des mots les plus fréquents\n",
    "corpus_clean = ' '.join(comments)\n",
    "word_counts = Counter(corpus_clean.split())\n",
    "sorted_words = sorted(word_counts, key=word_counts.get, reverse=True)\n",
    "sorted_words[:10]"
   ]
  },
  {
   "cell_type": "markdown",
   "id": "622ff6b7",
   "metadata": {},
   "source": [
    "# Classifieurs"
   ]
  },
  {
   "cell_type": "code",
   "execution_count": 15,
   "id": "382b5b4a",
   "metadata": {},
   "outputs": [],
   "source": [
    "np.random.seed(0)"
   ]
  },
  {
   "cell_type": "markdown",
   "id": "61b6e11a",
   "metadata": {},
   "source": [
    "###  Binarisation de notes"
   ]
  },
  {
   "cell_type": "code",
   "execution_count": 16,
   "id": "902495a1",
   "metadata": {},
   "outputs": [
    {
     "data": {
      "image/png": "[encoded data removed]",
      "text/plain": [
       "<Figure size 640x480 with 1 Axes>"
      ]
     },
     "metadata": {},
     "output_type": "display_data"
    }
   ],
   "source": [
    "classes = [1 if note>5 else -1 for note in notes]\n",
    "plt.hist(classes, bins=range(min(classes), max(classes) + 2, 1))\n",
    "plt.show()"
   ]
  },
  {
   "cell_type": "code",
   "execution_count": null,
   "id": "3fa710b1",
   "metadata": {},
   "outputs": [],
   "source": [
    "corpus_positif = ' '.join(comments)\n",
    "word_counts = Counter(corpus_clean.split())\n",
    "sorted_words = sorted(word_counts, key=word_counts.get, reverse=True)\n",
    "sorted_words[:10]"
   ]
  },
  {
   "cell_type": "markdown",
   "id": "b31b908f",
   "metadata": {},
   "source": [
    "### Réequilibrage des clasees"
   ]
  },
  {
   "cell_type": "code",
   "execution_count": 17,
   "id": "81912f41",
   "metadata": {},
   "outputs": [
    {
     "data": {
      "image/png": "[encoded data removed]",
      "text/plain": [
       "<Figure size 640x480 with 1 Axes>"
      ]
     },
     "metadata": {},
     "output_type": "display_data"
    }
   ],
   "source": [
    "vectorizer = CountVectorizer()\n",
    "X = vectorizer.fit_transform(comments)\n",
    "\n",
    "X_train, X_test, y_train, y_test = model_selection.train_test_split(X, classes, test_size=0.2, random_state=0)\n",
    "\n",
    "rus = RandomUnderSampler(random_state=42)\n",
    "X_resampled, y_resampled = rus.fit_resample(X_train, y_train)\n",
    "plt.hist(y_resampled, bins=range(min(y_resampled), max(y_resampled) + 2, 1))\n",
    "plt.show()"
   ]
  },
  {
   "cell_type": "code",
   "execution_count": 18,
   "id": "158c98be",
   "metadata": {},
   "outputs": [],
   "source": [
    "def classifieur(vectorizer):\n",
    "    X = vectorizer.fit_transform(comments)\n",
    "    X_train, X_test, y_train, y_test = model_selection.train_test_split(X, classes, test_size=0.2, random_state=0)\n",
    "    rus = RandomUnderSampler(random_state=42)\n",
    "    X_resampled, y_resampled = rus.fit_resample(X_train, y_train)\n",
    "\n",
    "\n",
    "    # Naïve Bayes\n",
    "    nb_clf = MultinomialNB()\n",
    "    nb_clf.fit(X_resampled, y_resampled)\n",
    "\n",
    "    # Logistic Regression\n",
    "    lr_clf = LogisticRegression(random_state=0, solver='lbfgs', max_iter=1000, n_jobs=-1)\n",
    "    lr_clf.fit(X_resampled, y_resampled)\n",
    "\n",
    "    # Linear SVM\n",
    "    svm_clf = LinearSVC(random_state=0, tol=1e-5)\n",
    "    svm_clf.fit(X_resampled, y_resampled)\n",
    "\n",
    "    pred_nb = nb_clf.predict(X_test)\n",
    "    pred_lr = lr_clf.predict(X_test)\n",
    "    pred_svm = svm_clf.predict(X_test)\n",
    "\n",
    "    nb_f1 = metrics.f1_score(y_test, pred_nb, average='weighted')\n",
    "    lr_f1 = metrics.f1_score(y_test, pred_lr, average='weighted')\n",
    "    svm_f1 = metrics.f1_score(y_test, pred_svm, average='weighted')\n",
    "    \n",
    "    \n",
    "\n",
    "    # Trouver le meilleur modèle en fonction du f1-score\n",
    "    best_model = ''\n",
    "    if nb_f1 > lr_f1 and nb_f1 > svm_f1:\n",
    "        best_model = 'Naïve Bayes'\n",
    "        model = nb_clf\n",
    "    elif lr_f1 > nb_f1 and lr_f1 > svm_f1:\n",
    "        best_model = 'Logistic Regression'\n",
    "        model = lr_clf\n",
    "    else:\n",
    "        best_model = 'SVM'\n",
    "        model = svm_clf\n",
    "    \n",
    "    print(f\"Best model: {best_model}\")\n",
    "    print(f\"{best_model.capitalize()} accuracy: {metrics.accuracy_score(y_test, model.predict(X_test))}     f1-score: {metrics.f1_score(y_test, model.predict(X_test), average='weighted')}\")\n",
    "\n",
    "    # Obtenir les caractéristiques les plus importantes pour le meilleur modèle\n",
    "    n = 10\n",
    "    feature_weights = model.coef_[0]\n",
    "    top_features = {\n",
    "        'positive': [vectorizer.get_feature_names_out()[i] for i in feature_weights.argsort()[-n:][::-1]],\n",
    "        'negative': [vectorizer.get_feature_names_out()[i] for i in feature_weights.argsort()[:n]]\n",
    "    }\n",
    "\n",
    "    \n",
    "    print(\"Top 10 mots positifs: \", top_features['positive'])\n",
    "    print(\"Top 10 mots négatifs: \", top_features['negative'])"
   ]
  },
  {
   "cell_type": "markdown",
   "id": "22b17c90",
   "metadata": {},
   "source": [
    "### CountVectorizer"
   ]
  },
  {
   "cell_type": "code",
   "execution_count": 19,
   "id": "495a35f6",
   "metadata": {},
   "outputs": [],
   "source": [
    "def count_vectorizer(**count_vectorizer_args):\n",
    "    vectorizer = CountVectorizer(**count_vectorizer_args)\n",
    "    return classifieur(vectorizer)"
   ]
  },
  {
   "cell_type": "markdown",
   "id": "e6e254bd",
   "metadata": {},
   "source": [
    "### TdfidfVectorizer"
   ]
  },
  {
   "cell_type": "code",
   "execution_count": 20,
   "id": "a0335741",
   "metadata": {},
   "outputs": [],
   "source": [
    "def tfidf_vectorizer(**tfidf_vectorizer_args):\n",
    "    vectorizer = TfidfVectorizer(**tfidf_vectorizer_args)\n",
    "    return classifieur(vectorizer)"
   ]
  },
  {
   "cell_type": "markdown",
   "id": "b3b2f276",
   "metadata": {},
   "source": [
    "## Variantes et évaluations"
   ]
  },
  {
   "cell_type": "code",
   "execution_count": 21,
   "id": "8b967e62",
   "metadata": {},
   "outputs": [
    {
     "name": "stdout",
     "output_type": "stream",
     "text": [
      "Best model: Logistic Regression\n",
      "Logistic regression accuracy: 0.8276890944353275     f1-score: 0.8455592223609294\n",
      "Top 10 mots positifs:  ['bémol', 'maximale', 'bravo', 'foncez', 'excellent', 'hésitez', 'jouissif', 'avaler', 'cultes', 'rareté']\n",
      "Top 10 mots négatifs:  ['déception', 'décevant', 'interêt', 'incompréhensibles', 'ennuyé', 'ennui', 'servira', 'chiant', 'ennuyeux', 'ennuyeuse']\n"
     ]
    }
   ],
   "source": [
    "count_vectorizer()"
   ]
  },
  {
   "cell_type": "code",
   "execution_count": 22,
   "id": "94557169",
   "metadata": {},
   "outputs": [
    {
     "name": "stdout",
     "output_type": "stream",
     "text": [
      "Best model: SVM\n",
      "Svm accuracy: 0.830672833059824     f1-score: 0.8479276692556876\n",
      "Top 10 mots positifs:  ['bémol', 'excellent', 'bravo', 'foncez', 'maximale', 'hésitez', 'vivement', 'must', 'merveille', 'adore']\n",
      "Top 10 mots négatifs:  ['déception', 'décevant', 'intérêt', 'ennuyé', 'ennuyeux', 'ennui', 'ennuie', 'chiant', 'servir', 'raté']\n"
     ]
    }
   ],
   "source": [
    "tfidf_vectorizer()"
   ]
  },
  {
   "cell_type": "markdown",
   "id": "6c470d3b",
   "metadata": {},
   "source": [
    "### Stopswords"
   ]
  },
  {
   "cell_type": "code",
   "execution_count": 23,
   "id": "d2b0f69e",
   "metadata": {},
   "outputs": [
    {
     "name": "stdout",
     "output_type": "stream",
     "text": [
      "Best model: Logistic Regression\n",
      "Logistic regression accuracy: 0.8239096921776319     f1-score: 0.8423854144650136\n",
      "Top 10 mots positifs:  ['bémol', 'maximale', 'bravo', 'foncez', 'cultes', 'excellent', 'jouissif', 'fij', 'avaler', 'défaire']\n",
      "Top 10 mots négatifs:  ['décevant', 'déception', 'interêt', 'incompréhensibles', 'ennuyé', 'ennui', 'chiant', 'bancal', 'revendu', 'ennuyeux']\n"
     ]
    }
   ],
   "source": [
    "count_vectorizer(stop_words=stopwords.words('french'))"
   ]
  },
  {
   "cell_type": "code",
   "execution_count": 24,
   "id": "65d4fb5c",
   "metadata": {},
   "outputs": [
    {
     "name": "stdout",
     "output_type": "stream",
     "text": [
      "Best model: Logistic Regression\n",
      "Logistic regression accuracy: 0.8276393654582526     f1-score: 0.84485796022823\n",
      "Top 10 mots positifs:  ['excellent', 'bémol', 'bon', 'adore', 'efficace', 'bravo', 'parfait', 'excellente', 'must', 'agréable']\n",
      "Top 10 mots négatifs:  ['déception', 'intérêt', 'ennuie', 'aucune', 'ennuyeux', 'décevant', 'ennui', 'malheureusement', 'aucun', 'accroché']\n"
     ]
    }
   ],
   "source": [
    "tfidf_vectorizer(stop_words=stopwords.words('french'))"
   ]
  },
  {
   "cell_type": "markdown",
   "id": "5e4acaa8",
   "metadata": {},
   "source": [
    "### Stopswords et tous les mots qui apparaissent dans plus de 75% des documents sont ignorés"
   ]
  },
  {
   "cell_type": "code",
   "execution_count": 25,
   "id": "cb40fd44",
   "metadata": {},
   "outputs": [
    {
     "name": "stdout",
     "output_type": "stream",
     "text": [
      "Best model: Logistic Regression\n",
      "Logistic regression accuracy: 0.8239842856432443     f1-score: 0.8424449681489813\n",
      "Top 10 mots positifs:  ['bémol', 'maximale', 'bravo', 'cultes', 'foncez', 'excellent', 'jouissif', 'fij', 'avaler', 'défaire']\n",
      "Top 10 mots négatifs:  ['décevant', 'déception', 'interêt', 'incompréhensibles', 'ennuyé', 'ennui', 'chiant', 'bancal', 'revendu', 'ennuyeux']\n"
     ]
    }
   ],
   "source": [
    "count_vectorizer(stop_words=stopwords.words('french'), max_df=.75)"
   ]
  },
  {
   "cell_type": "code",
   "execution_count": 26,
   "id": "6e87c832",
   "metadata": {},
   "outputs": [
    {
     "name": "stdout",
     "output_type": "stream",
     "text": [
      "Best model: Logistic Regression\n",
      "Logistic regression accuracy: 0.8277636879009399     f1-score: 0.844977473983963\n",
      "Top 10 mots positifs:  ['excellent', 'bémol', 'bon', 'adore', 'efficace', 'bravo', 'parfait', 'excellente', 'must', 'agréable']\n",
      "Top 10 mots négatifs:  ['déception', 'intérêt', 'ennuie', 'aucune', 'ennuyeux', 'décevant', 'ennui', 'malheureusement', 'aucun', 'accroché']\n"
     ]
    }
   ],
   "source": [
    "tfidf_vectorizer(stop_words=stopwords.words('french'), max_df=.75)"
   ]
  },
  {
   "cell_type": "markdown",
   "id": "24463ebb",
   "metadata": {},
   "source": [
    "### Stopswords et tous les mots qui apparaissent dans plus de 20% des documents sont ignorés"
   ]
  },
  {
   "cell_type": "code",
   "execution_count": 27,
   "id": "462cc0ce",
   "metadata": {},
   "outputs": [
    {
     "name": "stdout",
     "output_type": "stream",
     "text": [
      "Best model: Logistic Regression\n",
      "Logistic regression accuracy: 0.8206524441792232     f1-score: 0.839781479500523\n",
      "Top 10 mots positifs:  ['bémol', 'maximale', 'bravo', 'foncez', 'excellent', 'cultes', 'jouissif', 'tendues', 'fij', 'avaler']\n",
      "Top 10 mots négatifs:  ['déception', 'décevant', 'interêt', 'ennui', 'incompréhensibles', 'ennuyé', 'bancal', 'atteint', 'indigeste', 'revendu']\n"
     ]
    }
   ],
   "source": [
    "count_vectorizer(stop_words=stopwords.words('french'), max_df=.2)"
   ]
  },
  {
   "cell_type": "code",
   "execution_count": 28,
   "id": "268d8a34",
   "metadata": {
    "scrolled": true
   },
   "outputs": [
    {
     "name": "stdout",
     "output_type": "stream",
     "text": [
      "Best model: Logistic Regression\n",
      "Logistic regression accuracy: 0.824282659505694     f1-score: 0.8420952863252054\n",
      "Top 10 mots positifs:  ['excellent', 'bémol', 'adore', 'efficace', 'bravo', 'agréable', 'parfait', 'excellente', 'must', 'attention']\n",
      "Top 10 mots négatifs:  ['déception', 'intérêt', 'ennuie', 'aucune', 'ennui', 'décevant', 'ennuyeux', 'aucun', 'accroché', 'malheureusement']\n"
     ]
    }
   ],
   "source": [
    "tfidf_vectorizer(stop_words=stopwords.words('french'), max_df=.2)"
   ]
  },
  {
   "cell_type": "markdown",
   "id": "b30a2d0f",
   "metadata": {},
   "source": [
    "### Stopswords et les 100 termes les plus fréquents"
   ]
  },
  {
   "cell_type": "code",
   "execution_count": 29,
   "id": "68fdb635",
   "metadata": {},
   "outputs": [
    {
     "name": "stdout",
     "output_type": "stream",
     "text": [
      "Best model: Logistic Regression\n",
      "Logistic regression accuracy: 0.8181162663484012     f1-score: 0.8376883343620185\n",
      "Top 10 mots positifs:  ['bémol', 'maximale', 'foncez', 'excellent', 'cultes', 'bravo', 'jouissif', 'tendues', 'fij', 'avaler']\n",
      "Top 10 mots négatifs:  ['déception', 'décevant', 'ennuyé', 'incompréhensibles', 'ennui', 'interêt', 'indigeste', 'revendu', 'bancal', 'error']\n"
     ]
    }
   ],
   "source": [
    "count_vectorizer(stop_words=stopwords.words('french')+sorted_words[:100])"
   ]
  },
  {
   "cell_type": "code",
   "execution_count": 30,
   "id": "08cfff8d",
   "metadata": {},
   "outputs": [
    {
     "name": "stdout",
     "output_type": "stream",
     "text": [
      "Best model: Logistic Regression\n",
      "Logistic regression accuracy: 0.8249042717191307     f1-score: 0.8425346162158632\n",
      "Top 10 mots positifs:  ['excellent', 'bémol', 'efficace', 'adore', 'agréable', 'bravo', 'parfait', 'excellente', 'must', 'attention']\n",
      "Top 10 mots négatifs:  ['déception', 'intérêt', 'ennuie', 'aucune', 'ennui', 'décevant', 'accroché', 'ennuyeux', 'aucun', 'malheureusement']\n"
     ]
    }
   ],
   "source": [
    "tfidf_vectorizer(stop_words=stopwords.words('french')+sorted_words[:100])"
   ]
  },
  {
   "cell_type": "markdown",
   "id": "8146eb8f",
   "metadata": {},
   "source": [
    "### Stopswords et les 1 000 termes les plus fréquents"
   ]
  },
  {
   "cell_type": "code",
   "execution_count": 31,
   "id": "43ea7d29",
   "metadata": {},
   "outputs": [
    {
     "name": "stdout",
     "output_type": "stream",
     "text": [
      "Best model: Logistic Regression\n",
      "Logistic regression accuracy: 0.7739072057287781     f1-score: 0.8010432336567275\n",
      "Top 10 mots positifs:  ['maximale', 'jouissif', 'régal', 'tendues', 'rythmées', 'have', 'foncez', 'animées', 'perfection', 'festivals']\n",
      "Top 10 mots négatifs:  ['décevant', 'ennuyé', 'revendu', 'ennui', 'ennuyeux', 'désolé', 'raté', 'bancal', 'supplice', 'chiant']\n"
     ]
    }
   ],
   "source": [
    "count_vectorizer(stop_words=stopwords.words('french')+sorted_words[:1000])"
   ]
  },
  {
   "cell_type": "code",
   "execution_count": 32,
   "id": "7ec3ece9",
   "metadata": {},
   "outputs": [
    {
     "name": "stdout",
     "output_type": "stream",
     "text": [
      "Best model: Logistic Regression\n",
      "Logistic regression accuracy: 0.7860659406236014     f1-score: 0.8098907713885535\n",
      "Top 10 mots positifs:  ['vivement', 'tendues', 'jouissif', 'régal', 'foncez', 'addictif', 'have', 'incontournable', 'subtil', 'vin']\n",
      "Top 10 mots négatifs:  ['ennui', 'décevant', 'ennuyeux', 'ennuyé', 'accroché', 'plat', 'raté', 'bof', 'désolé', 'convaincu']\n"
     ]
    }
   ],
   "source": [
    "tfidf_vectorizer(stop_words=stopwords.words('french')+sorted_words[:1000])"
   ]
  },
  {
   "cell_type": "markdown",
   "id": "e583c2e5",
   "metadata": {},
   "source": [
    "### Stopswords et les 10 000 termes les plus fréquents"
   ]
  },
  {
   "cell_type": "code",
   "execution_count": 33,
   "id": "e91e9ed0",
   "metadata": {},
   "outputs": [
    {
     "name": "stdout",
     "output_type": "stream",
     "text": [
      "Best model: Logistic Regression\n",
      "Logistic regression accuracy: 0.7081903625242428     f1-score: 0.7437839060640513\n",
      "Top 10 mots positifs:  ['malice', 'alterne', 'préparez', 'décuplé', 'garantissent', 'haletant', 'garanties', 'distille', 'grincheux', 'pilier']\n",
      "Top 10 mots négatifs:  ['déchanté', 'annonçait', 'maboul', 'meyklar', 'résumant', 'ratage', 'ennuyés', 'platitude', 'insisté', 'emmerde']\n"
     ]
    }
   ],
   "source": [
    "count_vectorizer(stop_words=stopwords.words('french')+sorted_words[:10000])"
   ]
  },
  {
   "cell_type": "code",
   "execution_count": 34,
   "id": "acb2c9d0",
   "metadata": {},
   "outputs": [
    {
     "name": "stdout",
     "output_type": "stream",
     "text": [
      "Best model: Logistic Regression\n",
      "Logistic regression accuracy: 0.7184593962902183     f1-score: 0.7509699343125421\n",
      "Top 10 mots positifs:  ['malice', 'alterne', 'haletant', 'clochemerle', 'foireuses', 'legrenierludique', 'renouvèlement', 'décuplé', 'grincheux', 'excellemment']\n",
      "Top 10 mots négatifs:  ['ennuyés', 'déchanté', 'daube', 'ratage', 'annonçait', 'nullité', 'supplice', 'maboul', 'promettait', 'péniblement']\n"
     ]
    }
   ],
   "source": [
    "tfidf_vectorizer(stop_words=stopwords.words('french')+sorted_words[:10000])"
   ]
  },
  {
   "cell_type": "markdown",
   "id": "595923a7",
   "metadata": {},
   "source": [
    "### Stopswords et les 40 000 termes les plus fréquents"
   ]
  },
  {
   "cell_type": "code",
   "execution_count": 35,
   "id": "476dda43",
   "metadata": {},
   "outputs": [
    {
     "name": "stdout",
     "output_type": "stream",
     "text": [
      "Best model: SVM\n",
      "Svm accuracy: 0.8215972947436472     f1-score: 0.8028999519581861\n",
      "Top 10 mots positifs:  ['secouent', 'patrouillant', 'chevreuil', 'bizzbon', 'vénèrent', 'fluyide', 'acre', 'multicritères', 'philippine', 'spooks']\n",
      "Top 10 mots négatifs:  ['adelle', 'déshydratation', 'révéla', 'paramêtres', 'gonflées', 'afflux', 'altruistes', 'chantre', 'dégoutté', 'plafonné']\n"
     ]
    }
   ],
   "source": [
    "count_vectorizer(stop_words=stopwords.words('french')+sorted_words[:40000])"
   ]
  },
  {
   "cell_type": "markdown",
   "id": "0c9996ec",
   "metadata": {},
   "source": [
    "### Stopswords et les 100 000 termes les plus fréquents"
   ]
  },
  {
   "cell_type": "code",
   "execution_count": 36,
   "id": "33fda0f0",
   "metadata": {},
   "outputs": [
    {
     "name": "stdout",
     "output_type": "stream",
     "text": [
      "Best model: Logistic Regression\n",
      "Logistic regression accuracy: 0.8534487045601472     f1-score: 0.7870095429930435\n",
      "Top 10 mots positifs:  ['agrã', 'organigramme', 'expliquéess', 'icite', 'enquiquinent', 'overboard', 'anmoins', 'systã', 'sã', 'agre']\n",
      "Top 10 mots négatifs:  ['internationalisation', 'otarie', 'fã', 'ensembleil', 'innovantrater', 'intimation', 'intant', 'ambiancejouables', 'aéatoire', 'pfeee']\n"
     ]
    }
   ],
   "source": [
    "count_vectorizer(stop_words=stopwords.words('french')+sorted_words[:100000])"
   ]
  },
  {
   "cell_type": "code",
   "execution_count": 37,
   "id": "1e19c046",
   "metadata": {},
   "outputs": [
    {
     "name": "stdout",
     "output_type": "stream",
     "text": [
      "Best model: Logistic Regression\n",
      "Logistic regression accuracy: 0.8536724849569844     f1-score: 0.7870738548404093\n",
      "Top 10 mots positifs:  ['enquiquinent', 'expliquéess', 'icite', 'organigramme', 'rã', 'overboard', 'gatifs', 'anmoins', 'agrã', 'ries']\n",
      "Top 10 mots négatifs:  ['otarie', 'internationalisation', 'étonnait', 'évertuais', 'intant', 'ensembleil', 'universl', 'achimie', 'achetermoche', 'intimation']\n"
     ]
    }
   ],
   "source": [
    "tfidf_vectorizer(stop_words=stopwords.words('french')+sorted_words[:100000])"
   ]
  },
  {
   "cell_type": "markdown",
   "id": "8c27db1a",
   "metadata": {},
   "source": [
    "### Bigrammes"
   ]
  },
  {
   "cell_type": "code",
   "execution_count": 40,
   "id": "705271c3",
   "metadata": {},
   "outputs": [
    {
     "name": "stdout",
     "output_type": "stream",
     "text": [
      "Best model: Logistic Regression\n",
      "Logistic regression accuracy: 0.853175195186235     f1-score: 0.8668570455519624\n",
      "Top 10 mots positifs:  ['excellent', 'bémol', 'bravo', 'must', 'bon petit', 'adore', 'très bon', 'merveille', 'excellente', 'jouissif']\n",
      "Top 10 mots négatifs:  ['déception', 'décevant', 'ennuyeux', 'ennui', 'ennuie', 'accroché', 'ennuyé', 'bof', 'convaincu', 'chiant']\n"
     ]
    }
   ],
   "source": [
    "count_vectorizer(stop_words=stopwords.words('french'), ngram_range=(1, 2))"
   ]
  },
  {
   "cell_type": "code",
   "execution_count": 41,
   "id": "cdc43162",
   "metadata": {},
   "outputs": [
    {
     "name": "stdout",
     "output_type": "stream",
     "text": [
      "Best model: SVM\n",
      "Svm accuracy: 0.8638669252573474     f1-score: 0.8754473765443802\n",
      "Top 10 mots positifs:  ['excellent', 'bon jeu', 'bémol', 'très bon', 'adore', 'bon petit', 'bravo', 'parfait', 'must', 'efficace']\n",
      "Top 10 mots négatifs:  ['déception', 'intérêt', 'ennuie', 'ennui', 'malheureusement', 'ennuyeux', 'décevant', 'aucune', 'trop', 'accroché']\n"
     ]
    }
   ],
   "source": [
    "tfidf_vectorizer(stop_words=stopwords.words('french'), ngram_range=(1, 2))"
   ]
  },
  {
   "cell_type": "code",
   "execution_count": 42,
   "id": "b18ed55c",
   "metadata": {},
   "outputs": [
    {
     "name": "stdout",
     "output_type": "stream",
     "text": [
      "Best model: SVM\n",
      "Svm accuracy: 0.8534238400716098     f1-score: 0.7869496877775172\n",
      "Top 10 mots positifs:  ['expliquéess', 'organigramme', 'icite', 'enquiquinent', 'overboard', 'anmoins', 'familialvariante', 'fandart', 'dirtvous', 'énormerailroad']\n",
      "Top 10 mots négatifs:  ['otarie', 'internationalisation', 'alep', 'étonnait', 'achetermoche', 'aéatoire', 'intimation', 'intant', 'évertuais', 'étymologie']\n"
     ]
    }
   ],
   "source": [
    "count_vectorizer(stop_words=stopwords.words('french')+sorted_words[:100000], ngram_range=(1, 2))"
   ]
  },
  {
   "cell_type": "code",
   "execution_count": 43,
   "id": "6f23f4eb",
   "metadata": {},
   "outputs": [
    {
     "name": "stdout",
     "output_type": "stream",
     "text": [
      "Best model: SVM\n",
      "Svm accuracy: 0.8535730270028346     f1-score: 0.7870241917929631\n",
      "Top 10 mots positifs:  ['expliquéess', 'icite', 'organigramme', 'enquiquinent', 'overboard', 'anmoins', 'trã dã', 'rã', 'ries', 'concluerais']\n",
      "Top 10 mots négatifs:  ['premiã trã', 'otarie', 'internationalisation', 'évertuais', 'engleterre', 'pfeee', 'encan', 'achimie', 'innovantrépétitif', 'innovantrater']\n"
     ]
    }
   ],
   "source": [
    "tfidf_vectorizer(stop_words=stopwords.words('french')+sorted_words[:100000], ngram_range=(1, 2))"
   ]
  },
  {
   "cell_type": "code",
   "execution_count": 44,
   "id": "73dfe7a0",
   "metadata": {},
   "outputs": [
    {
     "name": "stdout",
     "output_type": "stream",
     "text": [
      "Best model: Logistic Regression\n",
      "Logistic regression accuracy: 0.8530260082550102     f1-score: 0.8667075087623951\n",
      "Top 10 mots positifs:  ['excellent', 'bémol', 'bravo', 'must', 'bon petit', 'adore', 'très bon', 'merveille', 'excellente', 'jouissif']\n",
      "Top 10 mots négatifs:  ['déception', 'décevant', 'ennuyeux', 'ennui', 'ennuie', 'accroché', 'ennuyé', 'bof', 'convaincu', 'intérêt']\n"
     ]
    }
   ],
   "source": [
    "count_vectorizer(stop_words=stopwords.words('french'), ngram_range=(1, 2), max_df=0.5)"
   ]
  },
  {
   "cell_type": "code",
   "execution_count": 45,
   "id": "290b0d25",
   "metadata": {},
   "outputs": [
    {
     "name": "stdout",
     "output_type": "stream",
     "text": [
      "Best model: SVM\n",
      "Svm accuracy: 0.8641901636083346     f1-score: 0.8757067224923097\n",
      "Top 10 mots positifs:  ['excellent', 'bon jeu', 'bémol', 'très bon', 'adore', 'bon petit', 'bravo', 'parfait', 'must', 'efficace']\n",
      "Top 10 mots négatifs:  ['déception', 'intérêt', 'ennuie', 'ennui', 'malheureusement', 'ennuyeux', 'décevant', 'aucune', 'trop', 'accroché']\n"
     ]
    }
   ],
   "source": [
    "tfidf_vectorizer(stop_words=stopwords.words('french'), ngram_range=(1, 2), max_df=0.5)"
   ]
  },
  {
   "cell_type": "markdown",
   "id": "510819b1",
   "metadata": {},
   "source": [
    "### Trigrammes"
   ]
  },
  {
   "cell_type": "code",
   "execution_count": 46,
   "id": "9ffd2b92",
   "metadata": {},
   "outputs": [
    {
     "name": "stdout",
     "output_type": "stream",
     "text": [
      "Best model: Logistic Regression\n",
      "Logistic regression accuracy: 0.8544184196131086     f1-score: 0.8678376886595948\n",
      "Top 10 mots positifs:  ['excellent', 'bémol', 'adore', 'bravo', 'must', 'très sympa', 'bonheur', 'parfait', 'excellente', 'merveille']\n",
      "Top 10 mots négatifs:  ['déception', 'ennuyeux', 'décevant', 'ennuie', 'ennui', 'bof', 'accroché', 'intérêt', 'ennuyé', 'convaincu']\n"
     ]
    }
   ],
   "source": [
    "count_vectorizer(stop_words=stopwords.words('french'), ngram_range=(1, 3))"
   ]
  },
  {
   "cell_type": "code",
   "execution_count": 47,
   "id": "fc66f861",
   "metadata": {},
   "outputs": [
    {
     "name": "stdout",
     "output_type": "stream",
     "text": [
      "Best model: SVM\n",
      "Svm accuracy: 0.8650604207071461     f1-score: 0.8762221900996516\n",
      "Top 10 mots positifs:  ['excellent', 'bon jeu', 'bémol', 'adore', 'très bon', 'agréable', 'rapide', 'parfait', 'aussi', 'efficace']\n",
      "Top 10 mots négatifs:  ['intérêt', 'déception', 'ennuie', 'trop', 'rien', 'malheureusement', 'aucune', 'ennui', 'ennuyeux', 'déçu']\n"
     ]
    }
   ],
   "source": [
    "tfidf_vectorizer(stop_words=stopwords.words('french'), ngram_range=(1, 3))"
   ]
  },
  {
   "cell_type": "code",
   "execution_count": 48,
   "id": "67021552",
   "metadata": {},
   "outputs": [
    {
     "name": "stdout",
     "output_type": "stream",
     "text": [
      "Best model: SVM\n",
      "Svm accuracy: 0.8533492466059973     f1-score: 0.7869124315185829\n",
      "Top 10 mots positifs:  ['expliquéess', 'organigramme', 'icite', 'enquiquinent', 'overboard', 'anmoins', 'caernafon', 'glanables', 'vuelta', 'kasl']\n",
      "Top 10 mots négatifs:  ['otarie', 'internationalisation', 'intant', 'ensembleil', 'achimie', 'ambiancejouables', 'encan', 'alep', 'innovantrater', 'achetermoche']\n"
     ]
    }
   ],
   "source": [
    "count_vectorizer(stop_words=stopwords.words('french')+sorted_words[:100000], ngram_range=(1, 3))"
   ]
  },
  {
   "cell_type": "code",
   "execution_count": 49,
   "id": "47f73f67",
   "metadata": {},
   "outputs": [
    {
     "name": "stdout",
     "output_type": "stream",
     "text": [
      "Best model: Logistic Regression\n",
      "Logistic regression accuracy: 0.8535481625142971     f1-score: 0.7870117752441702\n",
      "Top 10 mots positifs:  ['enquiquinent', 'expliquéess', 'icite', 'organigramme', 'overboard', 'rã', 'anmoins', 'ries', 'gatifs', 'awayfar']\n",
      "Top 10 mots négatifs:  ['otarie', 'internationalisation', 'intant', 'étincelantes', 'intimation', 'innovantrater', 'universl', 'innovantrépétitif', 'ensembleil', 'étymologie']\n"
     ]
    }
   ],
   "source": [
    "tfidf_vectorizer(stop_words=stopwords.words('french')+sorted_words[:100000], ngram_range=(1, 3))"
   ]
  },
  {
   "cell_type": "code",
   "execution_count": 50,
   "id": "f99a56c7",
   "metadata": {},
   "outputs": [
    {
     "name": "stdout",
     "output_type": "stream",
     "text": [
      "Best model: Logistic Regression\n",
      "Logistic regression accuracy: 0.8552140832463077     f1-score: 0.8685220431511718\n",
      "Top 10 mots positifs:  ['excellent', 'bémol', 'adore', 'bravo', 'must', 'très sympa', 'bonheur', 'excellente', 'merveille', 'parfait']\n",
      "Top 10 mots négatifs:  ['déception', 'ennuyeux', 'décevant', 'ennui', 'ennuie', 'accroché', 'bof', 'intérêt', 'ennuyé', 'convaincu']\n"
     ]
    }
   ],
   "source": [
    "count_vectorizer(stop_words=stopwords.words('french'), ngram_range=(1, 3), max_df=0.5)"
   ]
  },
  {
   "cell_type": "code",
   "execution_count": 51,
   "id": "6a8d0859",
   "metadata": {},
   "outputs": [
    {
     "name": "stdout",
     "output_type": "stream",
     "text": [
      "Best model: SVM\n",
      "Svm accuracy: 0.8649858272415336     f1-score: 0.8761364373566314\n",
      "Top 10 mots positifs:  ['excellent', 'bon jeu', 'bémol', 'adore', 'très bon', 'agréable', 'rapide', 'parfait', 'aussi', 'efficace']\n",
      "Top 10 mots négatifs:  ['intérêt', 'déception', 'ennuie', 'trop', 'rien', 'malheureusement', 'aucune', 'ennui', 'ennuyeux', 'déçu']\n"
     ]
    }
   ],
   "source": [
    "tfidf_vectorizer(stop_words=stopwords.words('french'), ngram_range=(1, 3), max_df=0.5)"
   ]
  },
  {
   "cell_type": "markdown",
   "id": "7f731e85",
   "metadata": {},
   "source": [
    "### Stemming"
   ]
  },
  {
   "cell_type": "code",
   "execution_count": 52,
   "id": "2d017f08",
   "metadata": {},
   "outputs": [],
   "source": [
    "# fonction de preprocessing : stemming \n",
    "f = lambda doc: stem(doc) "
   ]
  },
  {
   "cell_type": "code",
   "execution_count": 53,
   "id": "1daf3fef",
   "metadata": {},
   "outputs": [
    {
     "name": "stdout",
     "output_type": "stream",
     "text": [
      "Best model: Logistic Regression\n",
      "Logistic regression accuracy: 0.8195832711721119     f1-score: 0.8386792351942114\n",
      "Top 10 mots positifs:  ['hériti', 'bémol', 'déchaîn', 'fonc', 'filt', 'raret', 'visibil', 'consensuel', 'néglig', 'défair']\n",
      "Top 10 mots négatifs:  ['décept', 'atz', 'interêt', 'décev', 'scandal', 'sens', 'lourdeur', 'vertical', 'sournoiser', 'peopl']\n"
     ]
    }
   ],
   "source": [
    "count_vectorizer(preprocessor=f)"
   ]
  },
  {
   "cell_type": "code",
   "execution_count": 54,
   "id": "eb7c38cd",
   "metadata": {},
   "outputs": [
    {
     "name": "stdout",
     "output_type": "stream",
     "text": [
      "Best model: Logistic Regression\n",
      "Logistic regression accuracy: 0.8244567109254562     f1-score: 0.842309772327326\n",
      "Top 10 mots positifs:  ['excellent', 'bémol', 'bon', 'ador', 'bravo', 'parf', 'agréabl', 'parfait', 'must', 'hésit']\n",
      "Top 10 mots négatifs:  ['décept', 'ennui', 'intérêt', 'aucun', 'pas', 'décev', 'répétit', 'rien', 'idé', 'malheur']\n"
     ]
    }
   ],
   "source": [
    "tfidf_vectorizer(preprocessor=f)"
   ]
  },
  {
   "cell_type": "markdown",
   "id": "8acd6711",
   "metadata": {},
   "source": [
    "### Autres modeles"
   ]
  },
  {
   "cell_type": "markdown",
   "id": "2648b571",
   "metadata": {},
   "source": [
    "#### XGBoost"
   ]
  },
  {
   "cell_type": "code",
   "execution_count": 55,
   "id": "fcee7fbb",
   "metadata": {},
   "outputs": [
    {
     "data": {
      "text/html": [
       "<div>\n",
       "<style scoped>\n",
       "    .dataframe tbody tr th:only-of-type {\n",
       "        vertical-align: middle;\n",
       "    }\n",
       "\n",
       "    .dataframe tbody tr th {\n",
       "        vertical-align: top;\n",
       "    }\n",
       "\n",
       "    .dataframe thead th {\n",
       "        text-align: right;\n",
       "    }\n",
       "</style>\n",
       "<table border=\"1\" class=\"dataframe\">\n",
       "  <thead>\n",
       "    <tr style=\"text-align: right;\">\n",
       "      <th></th>\n",
       "      <th>precision</th>\n",
       "      <th>recall</th>\n",
       "      <th>f1-score</th>\n",
       "      <th>support</th>\n",
       "    </tr>\n",
       "  </thead>\n",
       "  <tbody>\n",
       "    <tr>\n",
       "      <th>0</th>\n",
       "      <td>0.339053</td>\n",
       "      <td>0.802149</td>\n",
       "      <td>0.476639</td>\n",
       "      <td>5863.0000</td>\n",
       "    </tr>\n",
       "    <tr>\n",
       "      <th>1</th>\n",
       "      <td>0.955972</td>\n",
       "      <td>0.733139</td>\n",
       "      <td>0.829857</td>\n",
       "      <td>34355.0000</td>\n",
       "    </tr>\n",
       "    <tr>\n",
       "      <th>accuracy</th>\n",
       "      <td>0.743200</td>\n",
       "      <td>0.743200</td>\n",
       "      <td>0.743200</td>\n",
       "      <td>0.7432</td>\n",
       "    </tr>\n",
       "    <tr>\n",
       "      <th>macro avg</th>\n",
       "      <td>0.647512</td>\n",
       "      <td>0.767644</td>\n",
       "      <td>0.653248</td>\n",
       "      <td>40218.0000</td>\n",
       "    </tr>\n",
       "    <tr>\n",
       "      <th>weighted avg</th>\n",
       "      <td>0.866037</td>\n",
       "      <td>0.743200</td>\n",
       "      <td>0.778365</td>\n",
       "      <td>40218.0000</td>\n",
       "    </tr>\n",
       "  </tbody>\n",
       "</table>\n",
       "</div>"
      ],
      "text/plain": [
       "              precision    recall  f1-score     support\n",
       "0              0.339053  0.802149  0.476639   5863.0000\n",
       "1              0.955972  0.733139  0.829857  34355.0000\n",
       "accuracy       0.743200  0.743200  0.743200      0.7432\n",
       "macro avg      0.647512  0.767644  0.653248  40218.0000\n",
       "weighted avg   0.866037  0.743200  0.778365  40218.0000"
      ]
     },
     "execution_count": 55,
     "metadata": {},
     "output_type": "execute_result"
    }
   ],
   "source": [
    "from xgboost import XGBClassifier\n",
    "from sklearn.preprocessing import LabelEncoder\n",
    "\n",
    "le = LabelEncoder()\n",
    "classes = le.fit_transform(classes)\n",
    "\n",
    "\n",
    "cv = CountVectorizer(stop_words=stopwords.words('french'))\n",
    "\n",
    "X = cv.fit_transform(comments)\n",
    "\n",
    "X_train, X_test, y_train, y_test = model_selection.train_test_split(X, classes, test_size=0.2, random_state=0)\n",
    "rus = RandomUnderSampler(random_state=42)\n",
    "X_resampled, y_resampled = rus.fit_resample(X_train, y_train)\n",
    "\n",
    "model = XGBClassifier()\n",
    "model.fit(X_resampled, y_resampled)\n",
    "\n",
    "y_pred = model.predict(X_test)\n",
    "\n",
    "report = metrics.classification_report(y_test, y_pred, output_dict=True)\n",
    "report_df = pd.DataFrame(report).transpose()\n",
    "report_df"
   ]
  },
  {
   "cell_type": "markdown",
   "id": "025c528b",
   "metadata": {},
   "source": [
    "#### Neural network"
   ]
  },
  {
   "cell_type": "code",
   "execution_count": 56,
   "id": "75ec34df",
   "metadata": {},
   "outputs": [
    {
     "data": {
      "text/html": [
       "<div>\n",
       "<style scoped>\n",
       "    .dataframe tbody tr th:only-of-type {\n",
       "        vertical-align: middle;\n",
       "    }\n",
       "\n",
       "    .dataframe tbody tr th {\n",
       "        vertical-align: top;\n",
       "    }\n",
       "\n",
       "    .dataframe thead th {\n",
       "        text-align: right;\n",
       "    }\n",
       "</style>\n",
       "<table border=\"1\" class=\"dataframe\">\n",
       "  <thead>\n",
       "    <tr style=\"text-align: right;\">\n",
       "      <th></th>\n",
       "      <th>precision</th>\n",
       "      <th>recall</th>\n",
       "      <th>f1-score</th>\n",
       "      <th>support</th>\n",
       "    </tr>\n",
       "  </thead>\n",
       "  <tbody>\n",
       "    <tr>\n",
       "      <th>0</th>\n",
       "      <td>0.399298</td>\n",
       "      <td>0.794986</td>\n",
       "      <td>0.531592</td>\n",
       "      <td>5863.000000</td>\n",
       "    </tr>\n",
       "    <tr>\n",
       "      <th>1</th>\n",
       "      <td>0.957891</td>\n",
       "      <td>0.795896</td>\n",
       "      <td>0.869412</td>\n",
       "      <td>34355.000000</td>\n",
       "    </tr>\n",
       "    <tr>\n",
       "      <th>accuracy</th>\n",
       "      <td>0.795763</td>\n",
       "      <td>0.795763</td>\n",
       "      <td>0.795763</td>\n",
       "      <td>0.795763</td>\n",
       "    </tr>\n",
       "    <tr>\n",
       "      <th>macro avg</th>\n",
       "      <td>0.678594</td>\n",
       "      <td>0.795441</td>\n",
       "      <td>0.700502</td>\n",
       "      <td>40218.000000</td>\n",
       "    </tr>\n",
       "    <tr>\n",
       "      <th>weighted avg</th>\n",
       "      <td>0.876459</td>\n",
       "      <td>0.795763</td>\n",
       "      <td>0.820164</td>\n",
       "      <td>40218.000000</td>\n",
       "    </tr>\n",
       "  </tbody>\n",
       "</table>\n",
       "</div>"
      ],
      "text/plain": [
       "              precision    recall  f1-score       support\n",
       "0              0.399298  0.794986  0.531592   5863.000000\n",
       "1              0.957891  0.795896  0.869412  34355.000000\n",
       "accuracy       0.795763  0.795763  0.795763      0.795763\n",
       "macro avg      0.678594  0.795441  0.700502  40218.000000\n",
       "weighted avg   0.876459  0.795763  0.820164  40218.000000"
      ]
     },
     "execution_count": 56,
     "metadata": {},
     "output_type": "execute_result"
    }
   ],
   "source": [
    "cv = CountVectorizer(stop_words=stopwords.words('french'))\n",
    "\n",
    "X = cv.fit_transform(comments)\n",
    "\n",
    "X_train, X_test, y_train, y_test = model_selection.train_test_split(X, classes, test_size=0.2, random_state=0)\n",
    "rus = RandomUnderSampler(random_state=42)\n",
    "X_resampled, y_resampled = rus.fit_resample(X_train, y_train)\n",
    "\n",
    "model = neural_network.MLPClassifier()\n",
    "model.fit(X_resampled, y_resampled)\n",
    "\n",
    "y_pred = model.predict(X_test)\n",
    "\n",
    "report = metrics.classification_report(y_test, y_pred, output_dict=True)\n",
    "report_df = pd.DataFrame(report).transpose()\n",
    "report_df"
   ]
  },
  {
   "cell_type": "code",
   "execution_count": null,
   "id": "eb19cbb0",
   "metadata": {},
   "outputs": [],
   "source": []
  },
  {
   "cell_type": "code",
   "execution_count": null,
   "id": "7c3d4956",
   "metadata": {},
   "outputs": [],
   "source": [
    "\n"
   ]
  },
  {
   "cell_type": "code",
   "execution_count": null,
   "id": "1dc2198b",
   "metadata": {},
   "outputs": [],
   "source": []
  },
  {
   "cell_type": "code",
   "execution_count": null,
   "id": "d71ec0db",
   "metadata": {},
   "outputs": [],
   "source": []
  }
 ],
 "metadata": {
  "kernelspec": {
   "display_name": "Python 3 (ipykernel)",
   "language": "python",
   "name": "python3"
  },
  "language_info": {
   "codemirror_mode": {
    "name": "ipython",
    "version": 3
   },
   "file_extension": ".py",
   "mimetype": "text/x-python",
   "name": "python",
   "nbconvert_exporter": "python",
   "pygments_lexer": "ipython3",
   "version": "3.10.2"
  }
 },
 "nbformat": 4,
 "nbformat_minor": 5
}

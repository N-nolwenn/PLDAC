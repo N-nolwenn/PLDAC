{
 "cells": [
  {
   "cell_type": "code",
   "execution_count": 2,
   "id": "0a49a357",
   "metadata": {},
   "outputs": [
    {
     "ename": "ModuleNotFoundError",
     "evalue": "No module named 'xgboost'",
     "output_type": "error",
     "traceback": [
      "\u001b[1;31m---------------------------------------------------------------------------\u001b[0m",
      "\u001b[1;31mModuleNotFoundError\u001b[0m                       Traceback (most recent call last)",
      "Cell \u001b[1;32mIn [2], line 34\u001b[0m\n\u001b[0;32m     26\u001b[0m \u001b[38;5;28;01mfrom\u001b[39;00m \u001b[38;5;21;01msklearn\u001b[39;00m \u001b[38;5;28;01mimport\u001b[39;00m (linear_model, \n\u001b[0;32m     27\u001b[0m                      metrics,\n\u001b[0;32m     28\u001b[0m                      preprocessing, \n\u001b[0;32m     29\u001b[0m                      model_selection, \n\u001b[0;32m     30\u001b[0m                      pipeline,\n\u001b[0;32m     31\u001b[0m                     neural_network,)\n\u001b[0;32m     32\u001b[0m \u001b[38;5;28;01mfrom\u001b[39;00m \u001b[38;5;21;01msklearn\u001b[39;00m\u001b[38;5;21;01m.\u001b[39;00m\u001b[38;5;21;01mfeature_extraction\u001b[39;00m\u001b[38;5;21;01m.\u001b[39;00m\u001b[38;5;21;01mtext\u001b[39;00m \u001b[38;5;28;01mimport\u001b[39;00m CountVectorizer, TfidfVectorizer\n\u001b[1;32m---> 34\u001b[0m \u001b[38;5;28;01mfrom\u001b[39;00m \u001b[38;5;21;01mxgboost\u001b[39;00m \u001b[38;5;28;01mimport\u001b[39;00m XGBClassifier\n\u001b[0;32m     36\u001b[0m \u001b[38;5;28;01mfrom\u001b[39;00m \u001b[38;5;21;01mnltk\u001b[39;00m\u001b[38;5;21;01m.\u001b[39;00m\u001b[38;5;21;01mstem\u001b[39;00m\u001b[38;5;21;01m.\u001b[39;00m\u001b[38;5;21;01msnowball\u001b[39;00m \u001b[38;5;28;01mimport\u001b[39;00m FrenchStemmer\n",
      "\u001b[1;31mModuleNotFoundError\u001b[0m: No module named 'xgboost'"
     ]
    }
   ],
   "source": [
    "import matplotlib.pyplot as plt\n",
    "import nltk\n",
    "import numpy as np\n",
    "import pandas as pd\n",
    "import sklearn\n",
    "import warnings\n",
    "import re\n",
    "import string\n",
    "\n",
    "from pymongo  import MongoClient\n",
    "from collections import Counter\n",
    "\n",
    "from sklearn.naive_bayes import MultinomialNB\n",
    "from sklearn.linear_model import LogisticRegression\n",
    "from sklearn.svm import LinearSVC\n",
    "from sklearn.linear_model import LinearRegression\n",
    "from sklearn.metrics import accuracy_score\n",
    "from sklearn.ensemble import RandomForestClassifier\n",
    "from sklearn.datasets import make_classification\n",
    "\n",
    "from imblearn.under_sampling import RandomUnderSampler\n",
    "\n",
    "from nltk.corpus import stopwords\n",
    "from nltk.tokenize import word_tokenize\n",
    "\n",
    "from sklearn import (linear_model, \n",
    "                     metrics,\n",
    "                     preprocessing, \n",
    "                     model_selection, \n",
    "                     pipeline,\n",
    "                    neural_network,)\n",
    "from sklearn.feature_extraction.text import CountVectorizer, TfidfVectorizer\n",
    "\n",
    "from xgboost import XGBClassifier\n",
    "\n",
    "from nltk.stem.snowball import FrenchStemmer\n"
   ]
  },
  {
   "cell_type": "code",
   "execution_count": null,
   "id": "93378a72",
   "metadata": {},
   "outputs": [],
   "source": [
    "warnings.simplefilter(\"ignore\")"
   ]
  },
  {
   "cell_type": "markdown",
   "id": "7880d600",
   "metadata": {},
   "source": [
    "## Connexion à la base de données MongoDB"
   ]
  },
  {
   "cell_type": "code",
   "execution_count": null,
   "id": "ee3de98b",
   "metadata": {},
   "outputs": [],
   "source": [
    "client = MongoClient(host=\"localhost\", port=27017)\n",
    "db = client[\"PLDAC\"]\n",
    "avis = db[\"avis\"]\n",
    "df_avis = pd.DataFrame(list(avis.find()))"
   ]
  },
  {
   "cell_type": "code",
   "execution_count": null,
   "id": "1f54f834",
   "metadata": {},
   "outputs": [],
   "source": [
    "df_avis.dropna(subset=['comment'], inplace=True)"
   ]
  },
  {
   "cell_type": "code",
   "execution_count": null,
   "id": "f96933fd",
   "metadata": {},
   "outputs": [],
   "source": [
    "comments = df_avis['comment'].astype(str)\n",
    "notes = df_avis['note'].round()"
   ]
  },
  {
   "cell_type": "markdown",
   "id": "afa7a9fc",
   "metadata": {},
   "source": [
    "## Prétraitements"
   ]
  },
  {
   "cell_type": "code",
   "execution_count": null,
   "id": "d1f31608",
   "metadata": {},
   "outputs": [],
   "source": [
    "def delete_digit(doc):\n",
    "    return re.sub('[0-9]+', '', doc)"
   ]
  },
  {
   "cell_type": "code",
   "execution_count": null,
   "id": "8860afee",
   "metadata": {},
   "outputs": [],
   "source": [
    "def delete_ponctuation(doc):\n",
    "    punc = string.punctuation \n",
    "    punc += '\\n\\r\\t'\n",
    "    return doc.translate(str.maketrans(punc, ' ' * len(punc)))"
   ]
  },
  {
   "cell_type": "code",
   "execution_count": null,
   "id": "12879fce",
   "metadata": {},
   "outputs": [],
   "source": [
    "def stem(doc):\n",
    "    stemmer = FrenchStemmer()\n",
    "    tokens = nltk.word_tokenize(doc)\n",
    "    stemmed_tokens = [stemmer.stem(token) for token in tokens]\n",
    "    stemmed_text = \" \".join(stemmed_tokens)\n",
    "    return stemmed_text"
   ]
  },
  {
   "cell_type": "code",
   "execution_count": null,
   "id": "9e6f4487",
   "metadata": {},
   "outputs": [],
   "source": [
    "comments = comments.str.lower()"
   ]
  },
  {
   "cell_type": "code",
   "execution_count": null,
   "id": "41f98b76",
   "metadata": {},
   "outputs": [],
   "source": [
    "comments = comments.map(delete_digit)"
   ]
  },
  {
   "cell_type": "code",
   "execution_count": null,
   "id": "b56982ce",
   "metadata": {},
   "outputs": [],
   "source": [
    "comments = comments.map(delete_ponctuation)"
   ]
  },
  {
   "cell_type": "code",
   "execution_count": null,
   "id": "ef0e90bf",
   "metadata": {},
   "outputs": [],
   "source": [
    "comments"
   ]
  },
  {
   "cell_type": "markdown",
   "id": "744ec08e",
   "metadata": {},
   "source": [
    "### Vocabulaire"
   ]
  },
  {
   "cell_type": "code",
   "execution_count": null,
   "id": "a5f38d12",
   "metadata": {},
   "outputs": [],
   "source": [
    "vectorizer = CountVectorizer()\n",
    "X = vectorizer.fit_transform(comments)\n",
    "\n",
    "print('Taille initiale du vocabulaire :', len(vectorizer.vocabulary_))"
   ]
  },
  {
   "cell_type": "code",
   "execution_count": null,
   "id": "b4c2f739",
   "metadata": {
    "scrolled": true
   },
   "outputs": [],
   "source": [
    "## Liste des mots les plus fréquents\n",
    "corpus_clean = ' '.join(comments)\n",
    "word_counts = Counter(corpus_clean.split())\n",
    "sorted_words = sorted(word_counts, key=word_counts.get, reverse=True)\n",
    "sorted_words[:10]"
   ]
  },
  {
   "cell_type": "markdown",
   "id": "622ff6b7",
   "metadata": {},
   "source": [
    "# Classifieurs"
   ]
  },
  {
   "cell_type": "code",
   "execution_count": null,
   "id": "382b5b4a",
   "metadata": {},
   "outputs": [],
   "source": [
    "np.random.seed(0)"
   ]
  },
  {
   "cell_type": "markdown",
   "id": "61b6e11a",
   "metadata": {},
   "source": [
    "###  Binarisation de notes"
   ]
  },
  {
   "cell_type": "code",
   "execution_count": null,
   "id": "902495a1",
   "metadata": {},
   "outputs": [],
   "source": [
    "classes = [1 if note>5 else -1 for note in notes]\n",
    "plt.hist(classes, bins=range(min(classes), max(classes) + 2, 1))\n",
    "plt.show()"
   ]
  },
  {
   "cell_type": "code",
   "execution_count": null,
   "id": "3fa710b1",
   "metadata": {},
   "outputs": [],
   "source": [
    "corpus_positif = ' '.join(comments)\n",
    "word_counts = Counter(corpus_clean.split())\n",
    "sorted_words = sorted(word_counts, key=word_counts.get, reverse=True)\n",
    "sorted_words[:10]"
   ]
  },
  {
   "cell_type": "markdown",
   "id": "b31b908f",
   "metadata": {},
   "source": [
    "### Réequilibrage des clasees"
   ]
  },
  {
   "cell_type": "code",
   "execution_count": null,
   "id": "81912f41",
   "metadata": {},
   "outputs": [],
   "source": [
    "vectorizer = CountVectorizer()\n",
    "X = vectorizer.fit_transform(comments)\n",
    "\n",
    "X_train, X_test, y_train, y_test = model_selection.train_test_split(X, classes, test_size=0.2, random_state=0)\n",
    "\n",
    "rus = RandomUnderSampler(random_state=42)\n",
    "X_resampled, y_resampled = rus.fit_resample(X_train, y_train)\n",
    "plt.hist(y_resampled, bins=range(min(y_resampled), max(y_resampled) + 2, 1))\n",
    "plt.show()"
   ]
  },
  {
   "cell_type": "code",
   "execution_count": null,
   "id": "158c98be",
   "metadata": {},
   "outputs": [],
   "source": [
    "def classifieur(vectorizer):\n",
    "    X = vectorizer.fit_transform(comments)\n",
    "    X_train, X_test, y_train, y_test = model_selection.train_test_split(X, classes, test_size=0.2, random_state=0)\n",
    "    rus = RandomUnderSampler(random_state=42)\n",
    "    X_resampled, y_resampled = rus.fit_resample(X_train, y_train)\n",
    "\n",
    "\n",
    "    # Naïve Bayes\n",
    "    nb_clf = MultinomialNB()\n",
    "    nb_clf.fit(X_resampled, y_resampled)\n",
    "\n",
    "    # Logistic Regression\n",
    "    lr_clf = LogisticRegression(random_state=0, solver='lbfgs', max_iter=1000, n_jobs=-1)\n",
    "    lr_clf.fit(X_resampled, y_resampled)\n",
    "\n",
    "    # Linear SVM\n",
    "    svm_clf = LinearSVC(random_state=0, tol=1e-5)\n",
    "    svm_clf.fit(X_resampled, y_resampled)\n",
    "    \n",
    "    #Random Forest\n",
    "    rf_clf = RandomForesClassifier(n_estimators = 200, max_depth=2, random_state=0, n_jobs=-1)\n",
    "    rf_clf.fit(X_resampled, y_resampled)\n",
    "\n",
    "    pred_nb = nb_clf.predict(X_test)\n",
    "    pred_lr = lr_clf.predict(X_test)\n",
    "    pred_svm = svm_clf.predict(X_test)\n",
    "    pred_rf = rf_clf.predict(X_test)\n",
    "\n",
    "    nb_f1 = metrics.f1_score(y_test, pred_nb, average='weighted')\n",
    "    lr_f1 = metrics.f1_score(y_test, pred_lr, average='weighted')\n",
    "    svm_f1 = metrics.f1_score(y_test, pred_svm, average='weighted')\n",
    "    rf_f1 = metrics.f1_score(y_test, pred_rf, average= 'weighted')\n",
    "\n",
    "    # Trouver le meilleur modèle en fonction du f1-score\n",
    "    best_model = ''\n",
    "    if nb_f1 > lr_f1 and nb_f1 > svm_f1:\n",
    "        best_model = 'Naïve Bayes'\n",
    "        model = nb_clf\n",
    "    elif lr_f1 > nb_f1 and lr_f1 > svm_f1:\n",
    "        best_model = 'Logistic Regression'\n",
    "        model = lr_clf\n",
    "    else:\n",
    "        best_model = 'SVM'\n",
    "        model = svm_clf\n",
    "    \n",
    "    print(f\"Best model: {best_model}\")\n",
    "    print(f\"{best_model.capitalize()} accuracy: {metrics.accuracy_score(y_test, model.predict(X_test))}     f1-score: {metrics.f1_score(y_test, model.predict(X_test), average='weighted')}\")\n",
    "\n",
    "    # Obtenir les caractéristiques les plus importantes pour le meilleur modèle\n",
    "    n = 10\n",
    "    feature_weights = model.coef_[0]\n",
    "    top_features = {\n",
    "        'positive': [vectorizer.get_feature_names_out()[i] for i in feature_weights.argsort()[-n:][::-1]],\n",
    "        'negative': [vectorizer.get_feature_names_out()[i] for i in feature_weights.argsort()[:n]]\n",
    "    }\n",
    "\n",
    "    \n",
    "    print(\"Top 10 mots positifs: \", top_features['positive'])\n",
    "    print(\"Top 10 mots négatifs: \", top_features['negative'])"
   ]
  },
  {
   "cell_type": "markdown",
   "id": "22b17c90",
   "metadata": {},
   "source": [
    "### CountVectorizer"
   ]
  },
  {
   "cell_type": "code",
   "execution_count": null,
   "id": "495a35f6",
   "metadata": {},
   "outputs": [],
   "source": [
    "def count_vectorizer(**count_vectorizer_args):\n",
    "    vectorizer = CountVectorizer(**count_vectorizer_args)\n",
    "    return classifieur(vectorizer)"
   ]
  },
  {
   "cell_type": "markdown",
   "id": "e6e254bd",
   "metadata": {},
   "source": [
    "### TdfidfVectorizer"
   ]
  },
  {
   "cell_type": "code",
   "execution_count": null,
   "id": "a0335741",
   "metadata": {},
   "outputs": [],
   "source": [
    "def tfidf_vectorizer(**tfidf_vectorizer_args):\n",
    "    vectorizer = TfidfVectorizer(**tfidf_vectorizer_args)\n",
    "    return classifieur(vectorizer)"
   ]
  },
  {
   "cell_type": "markdown",
   "id": "b3b2f276",
   "metadata": {},
   "source": [
    "## Variantes et évaluations"
   ]
  },
  {
   "cell_type": "code",
   "execution_count": null,
   "id": "8b967e62",
   "metadata": {},
   "outputs": [],
   "source": [
    "count_vectorizer()"
   ]
  },
  {
   "cell_type": "code",
   "execution_count": null,
   "id": "94557169",
   "metadata": {},
   "outputs": [],
   "source": [
    "tfidf_vectorizer()"
   ]
  },
  {
   "cell_type": "markdown",
   "id": "6c470d3b",
   "metadata": {},
   "source": [
    "### Stopswords"
   ]
  },
  {
   "cell_type": "code",
   "execution_count": null,
   "id": "d2b0f69e",
   "metadata": {},
   "outputs": [],
   "source": [
    "count_vectorizer(stop_words=stopwords.words('french'))"
   ]
  },
  {
   "cell_type": "code",
   "execution_count": null,
   "id": "65d4fb5c",
   "metadata": {},
   "outputs": [],
   "source": [
    "tfidf_vectorizer(stop_words=stopwords.words('french'))"
   ]
  },
  {
   "cell_type": "markdown",
   "id": "5e4acaa8",
   "metadata": {},
   "source": [
    "### Stopswords et tous les mots qui apparaissent dans plus de 75% des documents sont ignorés"
   ]
  },
  {
   "cell_type": "code",
   "execution_count": null,
   "id": "cb40fd44",
   "metadata": {},
   "outputs": [],
   "source": [
    "count_vectorizer(stop_words=stopwords.words('french'), max_df=.75)"
   ]
  },
  {
   "cell_type": "code",
   "execution_count": null,
   "id": "6e87c832",
   "metadata": {},
   "outputs": [],
   "source": [
    "tfidf_vectorizer(stop_words=stopwords.words('french'), max_df=.75)"
   ]
  },
  {
   "cell_type": "markdown",
   "id": "24463ebb",
   "metadata": {},
   "source": [
    "### Stopswords et tous les mots qui apparaissent dans plus de 20% des documents sont ignorés"
   ]
  },
  {
   "cell_type": "code",
   "execution_count": null,
   "id": "462cc0ce",
   "metadata": {},
   "outputs": [],
   "source": [
    "count_vectorizer(stop_words=stopwords.words('french'), max_df=.2)"
   ]
  },
  {
   "cell_type": "code",
   "execution_count": null,
   "id": "268d8a34",
   "metadata": {
    "scrolled": true
   },
   "outputs": [],
   "source": [
    "tfidf_vectorizer(stop_words=stopwords.words('french'), max_df=.2)"
   ]
  },
  {
   "cell_type": "markdown",
   "id": "b30a2d0f",
   "metadata": {},
   "source": [
    "### Stopswords et les 100 termes les plus fréquents"
   ]
  },
  {
   "cell_type": "code",
   "execution_count": null,
   "id": "68fdb635",
   "metadata": {},
   "outputs": [],
   "source": [
    "count_vectorizer(stop_words=stopwords.words('french')+sorted_words[:100])"
   ]
  },
  {
   "cell_type": "code",
   "execution_count": null,
   "id": "08cfff8d",
   "metadata": {},
   "outputs": [],
   "source": [
    "tfidf_vectorizer(stop_words=stopwords.words('french')+sorted_words[:100])"
   ]
  },
  {
   "cell_type": "markdown",
   "id": "8146eb8f",
   "metadata": {},
   "source": [
    "### Stopswords et les 1 000 termes les plus fréquents"
   ]
  },
  {
   "cell_type": "code",
   "execution_count": null,
   "id": "43ea7d29",
   "metadata": {},
   "outputs": [],
   "source": [
    "count_vectorizer(stop_words=stopwords.words('french')+sorted_words[:1000])"
   ]
  },
  {
   "cell_type": "code",
   "execution_count": null,
   "id": "7ec3ece9",
   "metadata": {},
   "outputs": [],
   "source": [
    "tfidf_vectorizer(stop_words=stopwords.words('french')+sorted_words[:1000])"
   ]
  },
  {
   "cell_type": "markdown",
   "id": "e583c2e5",
   "metadata": {},
   "source": [
    "### Stopswords et les 10 000 termes les plus fréquents"
   ]
  },
  {
   "cell_type": "code",
   "execution_count": null,
   "id": "e91e9ed0",
   "metadata": {},
   "outputs": [],
   "source": [
    "count_vectorizer(stop_words=stopwords.words('french')+sorted_words[:10000])"
   ]
  },
  {
   "cell_type": "code",
   "execution_count": null,
   "id": "acb2c9d0",
   "metadata": {},
   "outputs": [],
   "source": [
    "tfidf_vectorizer(stop_words=stopwords.words('french')+sorted_words[:10000])"
   ]
  },
  {
   "cell_type": "markdown",
   "id": "595923a7",
   "metadata": {},
   "source": [
    "### Stopswords et les 40 000 termes les plus fréquents"
   ]
  },
  {
   "cell_type": "code",
   "execution_count": null,
   "id": "476dda43",
   "metadata": {},
   "outputs": [],
   "source": [
    "count_vectorizer(stop_words=stopwords.words('french')+sorted_words[:40000])"
   ]
  },
  {
   "cell_type": "markdown",
   "id": "0c9996ec",
   "metadata": {},
   "source": [
    "### Stopswords et les 100 000 termes les plus fréquents"
   ]
  },
  {
   "cell_type": "code",
   "execution_count": null,
   "id": "33fda0f0",
   "metadata": {},
   "outputs": [],
   "source": [
    "count_vectorizer(stop_words=stopwords.words('french')+sorted_words[:100000])"
   ]
  },
  {
   "cell_type": "code",
   "execution_count": null,
   "id": "1e19c046",
   "metadata": {},
   "outputs": [],
   "source": [
    "tfidf_vectorizer(stop_words=stopwords.words('french')+sorted_words[:100000])"
   ]
  },
  {
   "cell_type": "markdown",
   "id": "8c27db1a",
   "metadata": {},
   "source": [
    "### Bigrammes"
   ]
  },
  {
   "cell_type": "code",
   "execution_count": null,
   "id": "705271c3",
   "metadata": {},
   "outputs": [],
   "source": [
    "count_vectorizer(stop_words=stopwords.words('french'), ngram_range=(1, 2))"
   ]
  },
  {
   "cell_type": "code",
   "execution_count": null,
   "id": "cdc43162",
   "metadata": {},
   "outputs": [],
   "source": [
    "tfidf_vectorizer(stop_words=stopwords.words('french'), ngram_range=(1, 2))"
   ]
  },
  {
   "cell_type": "code",
   "execution_count": null,
   "id": "b18ed55c",
   "metadata": {},
   "outputs": [],
   "source": [
    "count_vectorizer(stop_words=stopwords.words('french')+sorted_words[:100000], ngram_range=(1, 2))"
   ]
  },
  {
   "cell_type": "code",
   "execution_count": null,
   "id": "6f23f4eb",
   "metadata": {},
   "outputs": [],
   "source": [
    "tfidf_vectorizer(stop_words=stopwords.words('french')+sorted_words[:100000], ngram_range=(1, 2))"
   ]
  },
  {
   "cell_type": "code",
   "execution_count": null,
   "id": "73dfe7a0",
   "metadata": {},
   "outputs": [],
   "source": [
    "count_vectorizer(stop_words=stopwords.words('french'), ngram_range=(1, 2), max_df=0.5)"
   ]
  },
  {
   "cell_type": "code",
   "execution_count": null,
   "id": "290b0d25",
   "metadata": {},
   "outputs": [],
   "source": [
    "tfidf_vectorizer(stop_words=stopwords.words('french'), ngram_range=(1, 2), max_df=0.5)"
   ]
  },
  {
   "cell_type": "markdown",
   "id": "510819b1",
   "metadata": {},
   "source": [
    "### Trigrammes"
   ]
  },
  {
   "cell_type": "code",
   "execution_count": null,
   "id": "9ffd2b92",
   "metadata": {},
   "outputs": [],
   "source": [
    "count_vectorizer(stop_words=stopwords.words('french'), ngram_range=(1, 3))"
   ]
  },
  {
   "cell_type": "code",
   "execution_count": null,
   "id": "fc66f861",
   "metadata": {},
   "outputs": [],
   "source": [
    "tfidf_vectorizer(stop_words=stopwords.words('french'), ngram_range=(1, 3))"
   ]
  },
  {
   "cell_type": "code",
   "execution_count": null,
   "id": "67021552",
   "metadata": {},
   "outputs": [],
   "source": [
    "count_vectorizer(stop_words=stopwords.words('french')+sorted_words[:100000], ngram_range=(1, 3))"
   ]
  },
  {
   "cell_type": "code",
   "execution_count": null,
   "id": "47f73f67",
   "metadata": {},
   "outputs": [],
   "source": [
    "tfidf_vectorizer(stop_words=stopwords.words('french')+sorted_words[:100000], ngram_range=(1, 3))"
   ]
  },
  {
   "cell_type": "code",
   "execution_count": null,
   "id": "f99a56c7",
   "metadata": {},
   "outputs": [],
   "source": [
    "count_vectorizer(stop_words=stopwords.words('french'), ngram_range=(1, 3), max_df=0.5)"
   ]
  },
  {
   "cell_type": "code",
   "execution_count": null,
   "id": "6a8d0859",
   "metadata": {},
   "outputs": [],
   "source": [
    "tfidf_vectorizer(stop_words=stopwords.words('french'), ngram_range=(1, 3), max_df=0.5)"
   ]
  },
  {
   "cell_type": "markdown",
   "id": "7f731e85",
   "metadata": {},
   "source": [
    "### Stemming"
   ]
  },
  {
   "cell_type": "code",
   "execution_count": null,
   "id": "2d017f08",
   "metadata": {},
   "outputs": [],
   "source": [
    "# fonction de preprocessing : stemming \n",
    "f = lambda doc: stem(doc) "
   ]
  },
  {
   "cell_type": "code",
   "execution_count": null,
   "id": "1daf3fef",
   "metadata": {},
   "outputs": [],
   "source": [
    "count_vectorizer(preprocessor=f)"
   ]
  },
  {
   "cell_type": "code",
   "execution_count": null,
   "id": "eb7c38cd",
   "metadata": {},
   "outputs": [],
   "source": [
    "tfidf_vectorizer(preprocessor=f)"
   ]
  },
  {
   "cell_type": "markdown",
   "id": "8acd6711",
   "metadata": {},
   "source": [
    "### Autres modeles"
   ]
  },
  {
   "cell_type": "markdown",
   "id": "2648b571",
   "metadata": {},
   "source": [
    "#### XGBoost"
   ]
  },
  {
   "cell_type": "code",
   "execution_count": null,
   "id": "fcee7fbb",
   "metadata": {},
   "outputs": [],
   "source": [
    "from xgboost import XGBClassifier\n",
    "from sklearn.preprocessing import LabelEncoder\n",
    "\n",
    "le = LabelEncoder()\n",
    "classes = le.fit_transform(classes)\n",
    "\n",
    "\n",
    "cv = CountVectorizer(stop_words=stopwords.words('french'))\n",
    "\n",
    "X = cv.fit_transform(comments)\n",
    "\n",
    "X_train, X_test, y_train, y_test = model_selection.train_test_split(X, classes, test_size=0.2, random_state=0)\n",
    "rus = RandomUnderSampler(random_state=42)\n",
    "X_resampled, y_resampled = rus.fit_resample(X_train, y_train)\n",
    "\n",
    "model = XGBClassifier()\n",
    "model.fit(X_resampled, y_resampled)\n",
    "\n",
    "y_pred = model.predict(X_test)\n",
    "\n",
    "report = metrics.classification_report(y_test, y_pred, output_dict=True)\n",
    "report_df = pd.DataFrame(report).transpose()\n",
    "report_df"
   ]
  },
  {
   "cell_type": "markdown",
   "id": "025c528b",
   "metadata": {},
   "source": [
    "#### Neural network"
   ]
  },
  {
   "cell_type": "code",
   "execution_count": null,
   "id": "75ec34df",
   "metadata": {},
   "outputs": [],
   "source": [
    "cv = CountVectorizer(stop_words=stopwords.words('french'))\n",
    "\n",
    "X = cv.fit_transform(comments)\n",
    "\n",
    "X_train, X_test, y_train, y_test = model_selection.train_test_split(X, classes, test_size=0.2, random_state=0)\n",
    "rus = RandomUnderSampler(random_state=42)\n",
    "X_resampled, y_resampled = rus.fit_resample(X_train, y_train)\n",
    "\n",
    "model = neural_network.MLPClassifier()\n",
    "model.fit(X_resampled, y_resampled)\n",
    "\n",
    "y_pred = model.predict(X_test)\n",
    "\n",
    "report = metrics.classification_report(y_test, y_pred, output_dict=True)\n",
    "report_df = pd.DataFrame(report).transpose()\n",
    "report_df"
   ]
  },
  {
   "cell_type": "code",
   "execution_count": null,
   "id": "eb19cbb0",
   "metadata": {},
   "outputs": [],
   "source": []
  },
  {
   "cell_type": "code",
   "execution_count": null,
   "id": "7c3d4956",
   "metadata": {},
   "outputs": [],
   "source": [
    "\n"
   ]
  },
  {
   "cell_type": "code",
   "execution_count": null,
   "id": "1dc2198b",
   "metadata": {},
   "outputs": [],
   "source": []
  },
  {
   "cell_type": "code",
   "execution_count": null,
   "id": "d71ec0db",
   "metadata": {},
   "outputs": [],
   "source": []
  }
 ],
 "metadata": {
  "kernelspec": {
   "display_name": "Python 3 (ipykernel)",
   "language": "python",
   "name": "python3"
  },
  "language_info": {
   "codemirror_mode": {
    "name": "ipython",
    "version": 3
   },
   "file_extension": ".py",
   "mimetype": "text/x-python",
   "name": "python",
   "nbconvert_exporter": "python",
   "pygments_lexer": "ipython3",
   "version": "3.10.2"
  }
 },
 "nbformat": 4,
 "nbformat_minor": 5
}
